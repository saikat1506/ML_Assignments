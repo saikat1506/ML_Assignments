{
 "cells": [
  {
   "cell_type": "markdown",
   "metadata": {},
   "source": [
    "# NLP ASSIGNMENT"
   ]
  },
  {
   "cell_type": "markdown",
   "metadata": {
    "colab_type": "text",
    "id": "Njwq01eGVLTc"
   },
   "source": [
    "## Problem Statement\n",
    "- Find the frequency of words in a webpage. \n",
    "- User can use urllib and BeautifulSoup to extract text from webpage.\n"
   ]
  },
  {
   "cell_type": "markdown",
   "metadata": {
    "colab": {
     "base_uri": "https://localhost:8080/",
     "height": 34
    },
    "colab_type": "code",
    "id": "q7MMvn1nU-gt",
    "outputId": "3980f905-7427-4afc-c78d-fc7525bfd735"
   },
   "source": [
    "### pip install beautifulsoup4 \n",
    "The following command must be run outside of the IPython shell:\n",
    "\n",
    "    $ pip install beautifulsoup4 \n",
    "\n",
    "The Python package manager (pip) can only be used from outside of IPython.\n",
    "Please reissue the `pip` command in a separate terminal or command prompt.\n",
    "\n",
    "See the Python documentation for more informations on how to install packages:\n",
    "\n",
    "    https://docs.python.org/3/installing/"
   ]
  },
  {
   "cell_type": "code",
   "execution_count": 6,
   "metadata": {
    "colab": {},
    "colab_type": "code",
    "collapsed": true,
    "id": "9bFpdnsxVXng"
   },
   "outputs": [],
   "source": [
    "import nltk\n",
    "import urllib.request\n",
    "from bs4 import BeautifulSoup\n",
    "import re\n",
    "import matplotlib.pyplot as plt\n",
    "%matplotlib inline"
   ]
  },
  {
   "cell_type": "markdown",
   "metadata": {
    "colab_type": "text",
    "id": "iN4Ez0mvOOlZ"
   },
   "source": [
    "## Access the webpage and print the html"
   ]
  },
  {
   "cell_type": "code",
   "execution_count": 7,
   "metadata": {
    "colab": {},
    "colab_type": "code",
    "collapsed": true,
    "id": "s4p3IU0GVvdC"
   },
   "outputs": [],
   "source": [
    "response = urllib.request.urlopen('http://php.net/')\n",
    "html = response.read()\n",
    "soup = BeautifulSoup(html,\"html5lib\")"
   ]
  },
  {
   "cell_type": "code",
   "execution_count": 8,
   "metadata": {
    "colab": {
     "base_uri": "https://localhost:8080/",
     "height": 54
    },
    "colab_type": "code",
    "id": "vLIp3kuxV1MR",
    "outputId": "78404ed6-faa7-4337-f07d-ce4f5e42904a"
   },
   "outputs": [
    {
     "name": "stdout",
     "output_type": "stream",
     "text": [
      "b'<!DOCTYPE html>\\n<html xmlns=\"http://www.w3.org/1999/xhtml\" lang=\"en\">\\n<head>\\n\\n  <meta charset=\"utf-8\">\\n  <meta name=\"viewport\" content=\"width=device-width, initial-scale=1.0\">\\n\\n  <title>PHP: Hypertext Preprocessor</title>\\n\\n <link rel=\"shortcut icon\" href=\"https://www.php.net/favicon.ico\">\\n <link rel=\"search\" type=\"application/opensearchdescription+xml\" href=\"http://php.net/phpnetimprovedsearch.src\" title=\"Add PHP.net search\">\\n <link rel=\"alternate\" type=\"application/atom+xml\" href=\"https://www.php.net/releases/feed.php\" title=\"PHP Release feed\">\\n <link rel=\"alternate\" type=\"application/atom+xml\" href=\"https://www.php.net/feed.atom\" title=\"PHP: Hypertext Preprocessor\">\\n\\n <link rel=\"canonical\" href=\"https://www.php.net/index.php\">\\n <link rel=\"shorturl\" href=\"https://www.php.net/index\">\\n <link rel=\"alternate\" href=\"https://www.php.net/index\" hreflang=\"x-default\">\\n\\n\\n\\n<link rel=\"stylesheet\" type=\"text/css\" href=\"/cached.php?t=1539771603&amp;f=/fonts/Fira/fira.css\" media=\"screen\">\\n<link rel=\"stylesheet\" type=\"text/css\" href=\"/cached.php?t=1539765004&amp;f=/fonts/Font-Awesome/css/fontello.css\" media=\"screen\">\\n<link rel=\"stylesheet\" type=\"text/css\" href=\"/cached.php?t=1540425603&amp;f=/styles/theme-base.css\" media=\"screen\">\\n<link rel=\"stylesheet\" type=\"text/css\" href=\"/cached.php?t=1540425603&amp;f=/styles/theme-medium.css\" media=\"screen\">\\n<link rel=\"stylesheet\" type=\"text/css\" href=\"/cached.php?t=1429259403&amp;f=/styles/home.css\" media=\"screen\">\\n\\n <!--[if lte IE 7]>\\n <link rel=\"stylesheet\" type=\"text/css\" href=\"https://www.php.net/styles/workarounds.ie7.css\" media=\"screen\">\\n <![endif]-->\\n\\n <!--[if lte IE 8]>\\n <script>\\n  window.brokenIE = true;\\n </script>\\n <![endif]-->\\n\\n <!--[if lte IE 9]>\\n <link rel=\"stylesheet\" type=\"text/css\" href=\"https://www.php.net/styles/workarounds.ie9.css\" media=\"screen\">\\n <![endif]-->\\n\\n <!--[if IE]>\\n <script src=\"https://www.php.net/js/ext/html5.js\"></script>\\n <![endif]-->\\n\\n <base href=\"https://www.php.net/index.php\">\\n\\n</head>\\n<body class=\"home \">\\n\\n<nav id=\"head-nav\" class=\"navbar navbar-fixed-top\">\\n  <div class=\"navbar-inner clearfix\">\\n    <a href=\"/\" class=\"brand\"><img src=\"/images/logos/php-logo.svg\" width=\"48\" height=\"24\" alt=\"php\"></a>\\n    <div id=\"mainmenu-toggle-overlay\"></div>\\n    <input type=\"checkbox\" id=\"mainmenu-toggle\">\\n    <ul class=\"nav\">\\n      <li class=\"\"><a href=\"/downloads\">Downloads</a></li>\\n      <li class=\"\"><a href=\"/docs.php\">Documentation</a></li>\\n      <li class=\"\"><a href=\"/get-involved\" >Get Involved</a></li>\\n      <li class=\"\"><a href=\"/support\">Help</a></li>\\n    </ul>\\n    <form class=\"navbar-search\" id=\"topsearch\" action=\"/search.php\">\\n      <input type=\"hidden\" name=\"show\" value=\"quickref\">\\n      <input type=\"search\" name=\"pattern\" class=\"search-query\" placeholder=\"Search\" accesskey=\"s\">\\n    </form>\\n  </div>\\n  <div id=\"flash-message\"></div>\\n</nav>\\n<nav id=\"trick\"><div><dl>\\n<dt><a href=\\'/manual/en/getting-started.php\\'>Getting Started</a></dt>\\n\\t<dd><a href=\\'/manual/en/introduction.php\\'>Introduction</a></dd>\\n\\t<dd><a href=\\'/manual/en/tutorial.php\\'>A simple tutorial</a></dd>\\n<dt><a href=\\'/manual/en/langref.php\\'>Language Reference</a></dt>\\n\\t<dd><a href=\\'/manual/en/language.basic-syntax.php\\'>Basic syntax</a></dd>\\n\\t<dd><a href=\\'/manual/en/language.types.php\\'>Types</a></dd>\\n\\t<dd><a href=\\'/manual/en/language.variables.php\\'>Variables</a></dd>\\n\\t<dd><a href=\\'/manual/en/language.constants.php\\'>Constants</a></dd>\\n\\t<dd><a href=\\'/manual/en/language.expressions.php\\'>Expressions</a></dd>\\n\\t<dd><a href=\\'/manual/en/language.operators.php\\'>Operators</a></dd>\\n\\t<dd><a href=\\'/manual/en/language.control-structures.php\\'>Control Structures</a></dd>\\n\\t<dd><a href=\\'/manual/en/language.functions.php\\'>Functions</a></dd>\\n\\t<dd><a href=\\'/manual/en/language.oop5.php\\'>Classes and Objects</a></dd>\\n\\t<dd><a href=\\'/manual/en/language.namespaces.php\\'>Namespaces</a></dd>\\n\\t<dd><a href=\\'/manual/en/language.errors.php\\'>Errors</a></dd>\\n\\t<dd><a href=\\'/manual/en/language.exceptions.php\\'>Exceptions</a></dd>\\n\\t<dd><a href=\\'/manual/en/language.generators.php\\'>Generators</a></dd>\\n\\t<dd><a href=\\'/manual/en/language.references.php\\'>References Explained</a></dd>\\n\\t<dd><a href=\\'/manual/en/reserved.variables.php\\'>Predefined Variables</a></dd>\\n\\t<dd><a href=\\'/manual/en/reserved.exceptions.php\\'>Predefined Exceptions</a></dd>\\n\\t<dd><a href=\\'/manual/en/reserved.interfaces.php\\'>Predefined Interfaces and Classes</a></dd>\\n\\t<dd><a href=\\'/manual/en/context.php\\'>Context options and parameters</a></dd>\\n\\t<dd><a href=\\'/manual/en/wrappers.php\\'>Supported Protocols and Wrappers</a></dd>\\n</dl>\\n<dl>\\n<dt><a href=\\'/manual/en/security.php\\'>Security</a></dt>\\n\\t<dd><a href=\\'/manual/en/security.intro.php\\'>Introduction</a></dd>\\n\\t<dd><a href=\\'/manual/en/security.general.php\\'>General considerations</a></dd>\\n\\t<dd><a href=\\'/manual/en/security.cgi-bin.php\\'>Installed as CGI binary</a></dd>\\n\\t<dd><a href=\\'/manual/en/security.apache.php\\'>Installed as an Apache module</a></dd>\\n\\t<dd><a href=\\'/manual/en/security.sessions.php\\'>Session Security</a></dd>\\n\\t<dd><a href=\\'/manual/en/security.filesystem.php\\'>Filesystem Security</a></dd>\\n\\t<dd><a href=\\'/manual/en/security.database.php\\'>Database Security</a></dd>\\n\\t<dd><a href=\\'/manual/en/security.errors.php\\'>Error Reporting</a></dd>\\n\\t<dd><a href=\\'/manual/en/security.globals.php\\'>Using Register Globals</a></dd>\\n\\t<dd><a href=\\'/manual/en/security.variables.php\\'>User Submitted Data</a></dd>\\n\\t<dd><a href=\\'/manual/en/security.magicquotes.php\\'>Magic Quotes</a></dd>\\n\\t<dd><a href=\\'/manual/en/security.hiding.php\\'>Hiding PHP</a></dd>\\n\\t<dd><a href=\\'/manual/en/security.current.php\\'>Keeping Current</a></dd>\\n<dt><a href=\\'/manual/en/features.php\\'>Features</a></dt>\\n\\t<dd><a href=\\'/manual/en/features.http-auth.php\\'>HTTP authentication with PHP</a></dd>\\n\\t<dd><a href=\\'/manual/en/features.cookies.php\\'>Cookies</a></dd>\\n\\t<dd><a href=\\'/manual/en/features.sessions.php\\'>Sessions</a></dd>\\n\\t<dd><a href=\\'/manual/en/features.xforms.php\\'>Dealing with XForms</a></dd>\\n\\t<dd><a href=\\'/manual/en/features.file-upload.php\\'>Handling file uploads</a></dd>\\n\\t<dd><a href=\\'/manual/en/features.remote-files.php\\'>Using remote files</a></dd>\\n\\t<dd><a href=\\'/manual/en/features.connection-handling.php\\'>Connection handling</a></dd>\\n\\t<dd><a href=\\'/manual/en/features.persistent-connections.php\\'>Persistent Database Connections</a></dd>\\n\\t<dd><a href=\\'/manual/en/features.safe-mode.php\\'>Safe Mode</a></dd>\\n\\t<dd><a href=\\'/manual/en/features.commandline.php\\'>Command line usage</a></dd>\\n\\t<dd><a href=\\'/manual/en/features.gc.php\\'>Garbage Collection</a></dd>\\n\\t<dd><a href=\\'/manual/en/features.dtrace.php\\'>DTrace Dynamic Tracing</a></dd>\\n</dl>\\n<dl>\\n<dt><a href=\\'/manual/en/funcref.php\\'>Function Reference</a></dt>\\n\\t<dd><a href=\\'/manual/en/refs.basic.php.php\\'>Affecting PHP\\'s Behaviour</a></dd>\\n\\t<dd><a href=\\'/manual/en/refs.utilspec.audio.php\\'>Audio Formats Manipulation</a></dd>\\n\\t<dd><a href=\\'/manual/en/refs.remote.auth.php\\'>Authentication Services</a></dd>\\n\\t<dd><a href=\\'/manual/en/refs.utilspec.cmdline.php\\'>Command Line Specific Extensions</a></dd>\\n\\t<dd><a href=\\'/manual/en/refs.compression.php\\'>Compression and Archive Extensions</a></dd>\\n\\t<dd><a href=\\'/manual/en/refs.creditcard.php\\'>Credit Card Processing</a></dd>\\n\\t<dd><a href=\\'/manual/en/refs.crypto.php\\'>Cryptography Extensions</a></dd>\\n\\t<dd><a href=\\'/manual/en/refs.database.php\\'>Database Extensions</a></dd>\\n\\t<dd><a href=\\'/manual/en/refs.calendar.php\\'>Date and Time Related Extensions</a></dd>\\n\\t<dd><a href=\\'/manual/en/refs.fileprocess.file.php\\'>File System Related Extensions</a></dd>\\n\\t<dd><a href=\\'/manual/en/refs.international.php\\'>Human Language and Character Encoding Support</a></dd>\\n\\t<dd><a href=\\'/manual/en/refs.utilspec.image.php\\'>Image Processing and Generation</a></dd>\\n\\t<dd><a href=\\'/manual/en/refs.remote.mail.php\\'>Mail Related Extensions</a></dd>\\n\\t<dd><a href=\\'/manual/en/refs.math.php\\'>Mathematical Extensions</a></dd>\\n\\t<dd><a href=\\'/manual/en/refs.utilspec.nontext.php\\'>Non-Text MIME Output</a></dd>\\n\\t<dd><a href=\\'/manual/en/refs.fileprocess.process.php\\'>Process Control Extensions</a></dd>\\n\\t<dd><a href=\\'/manual/en/refs.basic.other.php\\'>Other Basic Extensions</a></dd>\\n\\t<dd><a href=\\'/manual/en/refs.remote.other.php\\'>Other Services</a></dd>\\n\\t<dd><a href=\\'/manual/en/refs.search.php\\'>Search Engine Extensions</a></dd>\\n\\t<dd><a href=\\'/manual/en/refs.utilspec.server.php\\'>Server Specific Extensions</a></dd>\\n\\t<dd><a href=\\'/manual/en/refs.basic.session.php\\'>Session Extensions</a></dd>\\n\\t<dd><a href=\\'/manual/en/refs.basic.text.php\\'>Text Processing</a></dd>\\n\\t<dd><a href=\\'/manual/en/refs.basic.vartype.php\\'>Variable and Type Related Extensions</a></dd>\\n\\t<dd><a href=\\'/manual/en/refs.webservice.php\\'>Web Services</a></dd>\\n\\t<dd><a href=\\'/manual/en/refs.utilspec.windows.php\\'>Windows Only Extensions</a></dd>\\n\\t<dd><a href=\\'/manual/en/refs.xml.php\\'>XML Manipulation</a></dd>\\n\\t<dd><a href=\\'/manual/en/refs.ui.php\\'>GUI Extensions</a></dd>\\n</dl>\\n<dl>\\n<dt>Keyboard Shortcuts</dt><dt>?</dt>\\n<dd>This help</dd>\\n<dt>j</dt>\\n<dd>Next menu item</dd>\\n<dt>k</dt>\\n<dd>Previous menu item</dd>\\n<dt>g p</dt>\\n<dd>Previous man page</dd>\\n<dt>g n</dt>\\n<dd>Next man page</dd>\\n<dt>G</dt>\\n<dd>Scroll to bottom</dd>\\n<dt>g g</dt>\\n<dd>Scroll to top</dd>\\n<dt>g h</dt>\\n<dd>Goto homepage</dd>\\n<dt>g s</dt>\\n<dd>Goto search<br>(current page)</dd>\\n<dt>/</dt>\\n<dd>Focus search box</dd>\\n</dl></div></nav>\\n<div id=\"goto\">\\n    <div class=\"search\">\\n         <div class=\"text\"></div>\\n         <div class=\"results\"><ul></ul></div>\\n   </div>\\n</div>\\n\\n\\n\\n<div id=\"intro\" class=\"clearfix\">\\n  <div class=\"container\">\\n      <div class=\"row clearfix\">\\n    <div class=\"blurb\">\\n      <p>PHP is a popular general-purpose scripting language that is especially suited to web development.</p>\\n      <p>Fast, flexible and pragmatic, PHP powers everything from your blog to the most popular websites in the world.</p>\\n    </div>\\n    <div class=\"download\">\\n      <h3>Download</h3><ul>\\n\\n            <li><a class=\\'download-link\\' href=\\'/downloads.php#v7.4.7\\'>7.4.7</a><span class=\\'dot\\'>&middot;</span><a class=\\'notes\\' href=\\'/ChangeLog-7.php#7.4.7\\'>Release Notes</a><span class=\\'dot\\'>&middot;</span><a class=\\'notes\\' href=\\'/migration74\\'>Upgrading</a></li>\\n\\n            <li><a class=\\'download-link\\' href=\\'/downloads.php#v7.3.19\\'>7.3.19</a><span class=\\'dot\\'>&middot;</span><a class=\\'notes\\' href=\\'/ChangeLog-7.php#7.3.19\\'>Release Notes</a><span class=\\'dot\\'>&middot;</span><a class=\\'notes\\' href=\\'/migration73\\'>Upgrading</a></li>\\n\\n            <li><a class=\\'download-link\\' href=\\'/downloads.php#v7.2.31\\'>7.2.31</a><span class=\\'dot\\'>&middot;</span><a class=\\'notes\\' href=\\'/ChangeLog-7.php#7.2.31\\'>Release Notes</a><span class=\\'dot\\'>&middot;</span><a class=\\'notes\\' href=\\'/migration72\\'>Upgrading</a></li>\\n</ul>\\n    </div>\\n  </div>  </div>\\n</div>\\n\\n\\n<div id=\"layout\" class=\"clearfix\">\\n  <section id=\"layout-content\">\\n<div class=\\'home-content\\'><article class=\"newsentry\">\\n  <header class=\"title\">\\n    <time datetime=\"2020-06-11T14:13:17+00:00\">11 Jun 2020</time>\\n    <h2 class=\"newstitle\">\\n      <a href=\"https://www.php.net/archive/2020.php#2020-06-11-2\" id=\"2020-06-11-2\">PHP 7.4.7 Released!</a>\\n    </h2>\\n  </header>\\n  <div class=\"newscontent\">\\n    <div>\\n     <p>The PHP development team announces the immediate availability of PHP\\n     7.4.7. This release is a bug fix release.</p>\\n     \\n     <p>All PHP 7.4 users are encouraged to upgrade to this version.</p>\\n     \\n     <p>For source downloads of PHP 7.4.7 please visit our <a href=\"http://www.php.net/downloads.php\">downloads page</a>,\\n     Windows source and binaries can be found on <a href=\"http://windows.php.net/download/\">windows.php.net/download/</a>.\\n     The list of changes is recorded in the <a href=\"http://www.php.net/ChangeLog-7.php#7.4.6\">ChangeLog</a>.\\n     </p>\\n    </div>\\n  \\n  </div>\\n</article><article class=\"newsentry\">\\n  <header class=\"title\">\\n    <time datetime=\"2020-06-11T10:51:02+00:00\">11 Jun 2020</time>\\n    <h2 class=\"newstitle\">\\n      <a href=\"https://www.php.net/archive/2020.php#2020-06-11-2\" id=\"2020-06-11-2\">PHP 7.3.19 Released</a>\\n    </h2>\\n  </header>\\n  <div class=\"newscontent\">\\n    <div>\\n      <p>The PHP development team announces the immediate availability of PHP\\n      7.3.19. This is a bug fix release.</p>\\n\\n      <p>All PHP 7.3 users are encouraged to upgrade to this version.</p>\\n\\n      <p>For source downloads of PHP 7.3.19 please visit our <a href=\"https://www.php.net/downloads.php\">downloads page</a>,\\n      Windows source and binaries can be found on <a href=\"https://windows.php.net/download/\">windows.php.net/download/</a>.\\n      The list of changes is recorded in the <a href=\"https://www.php.net/ChangeLog-7.php#7.3.19\">ChangeLog</a>.\\n      </p>\\n    </div>\\n  \\n  </div>\\n</article><article class=\"newsentry\">\\n  <header class=\"title\">\\n    <time datetime=\"2020-05-14T08:49:42+00:00\">14 May 2020</time>\\n    <h2 class=\"newstitle\">\\n      <a href=\"https://www.php.net/archive/2020.php#2020-05-14-3\" id=\"2020-05-14-3\">PHP 7.4.6 Released!</a>\\n    </h2>\\n  </header>\\n  <div class=\"newscontent\">\\n    <div>\\n     <p>The PHP development team announces the immediate availability of PHP\\n     7.4.6. This is a security release which also contains several bug fixes.</p>\\n     \\n     <p>All PHP 7.4 users are encouraged to upgrade to this version.</p>\\n     \\n     <p>For source downloads of PHP 7.4.6 please visit our <a href=\"http://www.php.net/downloads.php\">downloads page</a>,\\n     Windows source and binaries can be found on <a href=\"http://windows.php.net/download/\">windows.php.net/download/</a>.\\n     The list of changes is recorded in the <a href=\"http://www.php.net/ChangeLog-7.php#7.4.6\">ChangeLog</a>.\\n     </p>\\n    </div>\\n  \\n  </div>\\n</article><article class=\"newsentry\">\\n  <header class=\"title\">\\n    <time datetime=\"2020-05-14T08:26:30+00:00\">14 May 2020</time>\\n    <h2 class=\"newstitle\">\\n      <a href=\"https://www.php.net/archive/2020.php#2020-05-14-2\" id=\"2020-05-14-2\">PHP 7.3.18 Released</a>\\n    </h2>\\n  </header>\\n  <div class=\"newscontent\">\\n    <div>\\n      <p>The PHP development team announces the immediate availability of PHP\\n      7.3.18 This is a security release which also contains several bug fixes.</p>\\n    \\n      <p>All PHP 7.3 users are encouraged to upgrade to this version.</p>\\n    \\n      <p>For source downloads of PHP 7.3.18 please visit our <a href=\"https://www.php.net/downloads.php\">downloads page</a>,\\n      Windows source and binaries can be found on <a href=\"https://windows.php.net/download/\">windows.php.net/download/</a>.\\n      The list of changes is recorded in the <a href=\"https://www.php.net/ChangeLog-7.php#7.3.18\">ChangeLog</a>.\\n      </p>\\n    </div>\\n  \\n  </div>\\n</article><article class=\"newsentry\">\\n  <header class=\"title\">\\n    <time datetime=\"2020-05-14T07:35:50+00:00\">14 May 2020</time>\\n    <h2 class=\"newstitle\">\\n      <a href=\"https://www.php.net/archive/2020.php#2020-05-14-1\" id=\"2020-05-14-1\">PHP 7.2.31 Released</a>\\n    </h2>\\n  </header>\\n  <div class=\"newscontent\">\\n    <div>\\n     <p>The PHP development team announces the immediate availability of PHP\\n     7.2.31. This is a security release.</p>\\n\\n     <p>All PHP 7.2 users are encouraged to upgrade to this version.</p>\\n\\n     <p>For source downloads of PHP 7.2.31 please visit our <a href=\"http://www.php.net/downloads.php\">downloads page</a>,\\n     Windows source and binaries can be found on <a href=\"http://windows.php.net/download/\">windows.php.net/download/</a>.\\n     The list of changes is recorded in the <a href=\"http://www.php.net/ChangeLog-7.php#7.2.31\">ChangeLog</a>.\\n     </p>\\n    </div>\\n  \\n  </div>\\n</article><article class=\"newsentry\">\\n  <header class=\"title\">\\n    <time datetime=\"2020-04-17T20:23:20+00:00\">17 Apr 2020</time>\\n    <h2 class=\"newstitle\">\\n      <a href=\"https://www.php.net/archive/2020.php#2020-04-17-1\" id=\"2020-04-17-1\">PHP 7.2.30 Release Announcement</a>\\n    </h2>\\n  </header>\\n  <div class=\"newscontent\">\\n    <div>\\n     <p>The PHP development team announces the immediate availability of PHP 7.2.30.\\n     This is a security release.</p>\\n     \\n     <p>All PHP 7.2 users are encouraged to upgrade to this version.</p>\\n     \\n     <p>For source downloads of PHP 7.2.30 please visit our <a href=\"http://www.php.net/downloads.php\">downloads page</a>,\\n     Windows source and binaries can be found on <a href=\"http://windows.php.net/download/\">windows.php.net/download/</a>.\\n     The list of changes is recorded in the <a href=\"http://www.php.net/ChangeLog-7.php#7.2.30\">ChangeLog</a>.\\n     </p>\\n    </div>\\n  \\n  </div>\\n</article><article class=\"newsentry\">\\n  <header class=\"title\">\\n    <time datetime=\"2019-11-14T19:01:18+00:00\">14 Nov 2019</time>\\n    <h2 class=\"newstitle\">\\n      <a href=\"https://www.php.net/archive/2019.php#2019-11-14-1\" id=\"2019-11-14-1\">PHP 7.4.0RC6 Released!</a>\\n    </h2>\\n  </header>\\n  <div class=\"newscontent\">\\n    <div>\\n     <p>\\n     The PHP team is glad to announce the sixth release candidate of PHP 7.4:\\n     PHP 7.4.0RC6. This continues the PHP 7.4 release cycle, the rough outline of\\n     which is specified in the <a href=\"https://wiki.php.net/todo/php74\">PHP\\n     Wiki</a>.\\n     </p>\\n     \\n     <p>\\n     <b>Please DO NOT use this version in production, it is an early test\\n     version.</b>\\n     </p>\\n     \\n     <p>\\n     For source downloads of PHP 7.4.0RC6 please visit the\\n     <a href=\"https://downloads.php.net/~derick\">download page</a>.\\n     </p>\\n     \\n     <p>\\n     Please carefully test this version and report any issues found in the <a href=\"https://bugs.php.net\">bug reporting system</a>.\\n     </p>\\n     \\n     <p>\\n     For more information on the new features and other changes, you can read the\\n     <a href=\"https://github.com/php/php-src/blob/php-7.4.0RC6/NEWS\">NEWS</a>\\n     file, or the\\n     <a href=\"https://github.com/php/php-src/blob/php-7.4.0RC6/UPGRADING\">UPGRADING</a>\\n     file for a complete list of upgrading notes. These files can also be found in\\n     the release archive.\\n     </p>\\n     \\n     <p>\\n     The next release would be <b>7.4.0</b>, planned for November 28th.\\n     </p>\\n     \\n     <p>\\n     The signatures for the release can be found in\\n     <a href=\"https://gist.github.com/derickr/75073b820cef83190094d34b7b04d322\">the\\n     manifest</a> or on <a href=\"https://qa.php.net/\">the QA site</a>.\\n     </p>\\n     \\n     <p>Thank you for helping us make PHP better.</p>\\n    </div>\\n  \\n  </div>\\n</article><article class=\"newsentry\">\\n  <header class=\"title\">\\n    <time datetime=\"2019-10-31T10:22:30+00:00\">31 Oct 2019</time>\\n    <h2 class=\"newstitle\">\\n      <a href=\"https://www.php.net/archive/2019.php#2019-10-31-2\" id=\"2019-10-31-2\">PHP 7.4.0RC5 released!</a>\\n    </h2>\\n  </header>\\n  <div class=\"newscontent\">\\n    <div>\\n     <p>\\n     The PHP team is glad to announce the fifth release candidate of PHP 7.4:\\n     PHP 7.4.0RC5. This continues the PHP 7.4 release cycle, the rough outline of\\n     which is specified in the <a href=\"https://wiki.php.net/todo/php74\">PHP\\n     Wiki</a>.\\n     </p>\\n     \\n     <p>\\n     <b>Please DO NOT use this version in production, it is an early test\\n     version.</b>\\n     </p>\\n     \\n     <p>\\n     For source downloads of PHP 7.4.0RC5 please visit the\\n     <a href=\"https://downloads.php.net/~derick\">download page</a>.\\n     </p>\\n     \\n     <p>\\n     Please carefully test this version and report any issues found in the <a href=\"https://bugs.php.net\">bug reporting system</a>.\\n     </p>\\n     \\n     <p>\\n     For more information on the new features and other changes, you can read the\\n     <a href=\"https://github.com/php/php-src/blob/php-7.4.0RC5/NEWS\">NEWS</a>\\n     file, or the\\n     <a href=\"https://github.com/php/php-src/blob/php-7.4.0RC5/UPGRADING\">UPGRADING</a>\\n     file for a complete list of upgrading notes. These files can also be found in\\n     the release archive.\\n     </p>\\n     \\n     <p>\\n     The next release would be <b>7.4.0RC6</b>, planned for November 14th.\\n     </p>\\n     \\n     <p>\\n     The signatures for the release can be found in\\n     <a href=\"https://gist.github.com/derickr/6a19c62d892995c311bb299c739adee8\">the\\n     manifest</a> or on <a href=\"https://qa.php.net/\">the QA site</a>.\\n     </p>\\n     \\n     <p>Thank you for helping us make PHP better.</p>\\n    </div>\\n  \\n  </div>\\n</article><article class=\"newsentry\">\\n  <header class=\"title\">\\n    <time datetime=\"2019-10-18T08:46:40+00:00\">18 Oct 2019</time>\\n    <h2 class=\"newstitle\">\\n      <a href=\"https://www.php.net/archive/2019.php#2019-10-18-1\" id=\"2019-10-18-1\">PHP 7.4.0RC4 Released!</a>\\n    </h2>\\n  </header>\\n  <div class=\"newscontent\">\\n    <div>\\n     <p>\\n     The PHP team is glad to announce the fourth release candidate of PHP 7.4:\\n     PHP 7.4.0RC4. This continues the PHP 7.4 release cycle, the rough outline of\\n     which is specified in the <a href=\"https://wiki.php.net/todo/php74\">PHP\\n     Wiki</a>.\\n     </p>\\n     \\n     <p>\\n     <b>Please DO NOT use this version in production, it is an early test\\n     version.</b>\\n     </p>\\n     \\n     <p>\\n     For source downloads of PHP 7.4.0RC4 please visit the\\n     <a href=\"https://downloads.php.net/~derick\">download page</a>.\\n     </p>\\n     \\n     <p>\\n     Please carefully test this version and report any issues found in the <a href=\"https://bugs.php.net\">bug reporting system</a>.\\n     </p>\\n     \\n     <p>\\n     For more information on the new features and other changes, you can read the\\n     <a href=\"https://github.com/php/php-src/blob/php-7.4.0RC4/NEWS\">NEWS</a>\\n     file, or the\\n     <a href=\"https://github.com/php/php-src/blob/php-7.4.0RC4/UPGRADING\">UPGRADING</a>\\n     file for a complete list of upgrading notes. These files can also be found in\\n     the release archive.\\n     </p>\\n     \\n     <p>\\n     The next release would be <b>7.4.0RC5</b>, planned for October 31st.\\n     </p>\\n     \\n     <p>\\n     The signatures for the release can be found in\\n     <a href=\"https://gist.github.com/derickr/5ad9dc1e880c8797a6f4af414d084c0f\">the\\n     manifest</a> or on <a href=\"https://qa.php.net/\">the QA site</a>.\\n     </p>\\n     \\n     <p>Thank you for helping us make PHP better.</p>\\n    </div>\\n  \\n  </div>\\n</article><article class=\"newsentry\">\\n  <header class=\"title\">\\n    <time datetime=\"2019-10-03T14:28:25+00:00\">03 Oct 2019</time>\\n    <h2 class=\"newstitle\">\\n      <a href=\"https://www.php.net/archive/2019.php#2019-10-03-1\" id=\"2019-10-03-1\">PHP 7.4.0RC3 Released!</a>\\n    </h2>\\n  </header>\\n  <div class=\"newscontent\">\\n    <div>\\n     <p>\\n     The PHP team is glad to announce the third release candidate of PHP 7.4:\\n     PHP 7.4.0RC3. This continues the PHP 7.4 release cycle, the rough outline of\\n     which is specified in the <a href=\"https://wiki.php.net/todo/php74\">PHP\\n     Wiki</a>.\\n     </p>\\n     \\n     <p>\\n     <b>Please DO NOT use this version in production, it is an early test\\n     version.</b>\\n     </p>\\n     \\n     <p>\\n     For source downloads of PHP 7.4.0RC3 please visit the\\n     <a href=\"https://downloads.php.net/~derick\">download page</a>.\\n     </p>\\n     \\n     <p>\\n     Please carefully test this version and report any issues found in the <a href=\"https://bugs.php.net\">bug reporting system</a>.\\n     </p>\\n     \\n     <p>\\n     For more information on the new features and other changes, you can read the\\n     <a href=\"https://github.com/php/php-src/blob/php-7.4.0RC3/NEWS\">NEWS</a>\\n     file, or the\\n     <a href=\"https://github.com/php/php-src/blob/php-7.4.0RC3/UPGRADING\">UPGRADING</a>\\n     file for a complete list of upgrading notes. These files can also be found in\\n     the release archive.\\n     </p>\\n     \\n     <p>\\n     The next release would be <b>7.4.0RC4</b>, planned for October 17th.\\n     </p>\\n     \\n     <p>\\n     The signatures for the release can be found in\\n     <a href=\"https://gist.github.com/derickr/4eaedc5dfd3bc9ddfbff6f81e8c53ec1\">the\\n     manifest</a> or on <a href=\"https://qa.php.net/\">the QA site</a>.\\n     </p>\\n     \\n     <p>Thank you for helping us make PHP better.</p>\\n    </div>\\n  \\n  </div>\\n</article><article class=\"newsentry\">\\n  <header class=\"title\">\\n    <time datetime=\"2019-09-19T09:07:27+00:00\">19 Sep 2019</time>\\n    <h2 class=\"newstitle\">\\n      <a href=\"https://www.php.net/archive/2019.php#2019-09-19-1\" id=\"2019-09-19-1\">PHP 7.4.0RC2 Released!</a>\\n    </h2>\\n  </header>\\n  <div class=\"newscontent\">\\n    <div>\\n     <p>\\n     The PHP team is glad to announce the second release candidate of PHP 7.4:\\n     PHP 7.4.0RC2. This continues the PHP 7.4 release cycle, the rough outline of\\n     which is specified in the <a href=\"https://wiki.php.net/todo/php74\">PHP\\n     Wiki</a>.\\n     </p>\\n     \\n     <p>\\n     <b>Please DO NOT use this version in production, it is an early test\\n     version.</b>\\n     </p>\\n     \\n     <p>\\n     For source downloads of PHP 7.4.0RC2 please visit the\\n     <a href=\"https://downloads.php.net/~derick\">download page</a>.\\n     </p>\\n     \\n     <p>\\n     Please carefully test this version and report any issues found in the <a href=\"https://bugs.php.net\">bug reporting system</a>.\\n     </p>\\n     \\n     <p>\\n     For more information on the new features and other changes, you can read the\\n     <a href=\"https://github.com/php/php-src/blob/php-7.4.0RC2/NEWS\">NEWS</a>\\n     file, or the\\n     <a href=\"https://github.com/php/php-src/blob/php-7.4.0RC2/UPGRADING\">UPGRADING</a>\\n     file for a complete list of upgrading notes. These files can also be found in\\n     the release archive.\\n     </p>\\n     \\n     <p>\\n     The next release would be <b>7.4.0RC3</b>, planned for October 3rd.\\n     </p>\\n     \\n     <p>\\n     The signatures for the release can be found in\\n     <a href=\"https://gist.github.com/derickr/4f8a617b73e471ee4cbbbde1862a9448\">the\\n     manifest</a> or on <a href=\"https://qa.php.net/\">the QA site</a>.\\n     </p>\\n     \\n     <p>Thank you for helping us make PHP better.</p>\\n    </div>\\n  \\n  </div>\\n</article><article class=\"newsentry\">\\n  <header class=\"title\">\\n    <time datetime=\"2019-09-05T08:39:13+00:00\">05 Sep 2019</time>\\n    <h2 class=\"newstitle\">\\n      <a href=\"https://www.php.net/archive/2019.php#2019-09-05-1\" id=\"2019-09-05-1\">PHP 7.4.0RC1 Released!</a>\\n    </h2>\\n  </header>\\n  <div class=\"newscontent\">\\n    <div>\\n     <p>\\n     The PHP team is glad to announce the first release candidate of PHP 7.4:\\n     PHP 7.4.0RC1. This continues the PHP 7.4 release cycle, the rough outline of\\n     which is specified in the <a href=\"https://wiki.php.net/todo/php74\">PHP\\n     Wiki</a>.\\n     </p>\\n     \\n     <p>\\n     <b>Please DO NOT use this version in production, it is an early test\\n     version.</b>\\n     </p>\\n     \\n     <p>\\n     For source downloads of PHP 7.4.0RC1 please visit the\\n     <a href=\"https://downloads.php.net/~derick\">download page</a>.\\n     </p>\\n     \\n     <p>\\n     Please carefully test this version and report any issues found in the <a href=\"https://bugs.php.net\">bug reporting system</a>.\\n     </p>\\n     \\n     <p>\\n     For more information on the new features and other changes, you can read the\\n     <a href=\"https://github.com/php/php-src/blob/php-7.4.0RC1/NEWS\">NEWS</a>\\n     file, or the\\n     <a href=\"https://github.com/php/php-src/blob/php-7.4.0RC1/UPGRADING\">UPGRADING</a>\\n     file for a complete list of upgrading notes. These files can also be found in\\n     the release archive.\\n     </p>\\n     \\n     <p>\\n     The next release would be <b>7.4.0RC2</b>, planned for September 19th.\\n     </p>\\n     \\n     <p>\\n     The signatures for the release can be found in\\n     <a href=\"https://gist.github.com/derickr/eb4025dd8f09f0e4af0bdf462ada14c2\">the\\n     manifest</a> or on <a href=\"https://qa.php.net/\">the QA site</a>.\\n     </p>\\n     \\n     <p>Thank you for helping us make PHP better.</p>\\n    </div>\\n  \\n  </div>\\n</article><article class=\"newsentry\">\\n  <header class=\"title\">\\n    <time datetime=\"2019-08-22T14:51:16+00:00\">22 Aug 2019</time>\\n    <h2 class=\"newstitle\">\\n      <a href=\"https://www.php.net/archive/2019.php#2019-08-22-1\" id=\"2019-08-22-1\">PHP 7.4.0beta4 released!</a>\\n    </h2>\\n  </header>\\n  <div class=\"newscontent\">\\n    <div>\\n     <p>\\n     The PHP team is glad to announce the third and last beta release of PHP 7.4:\\n     PHP 7.4.0beta4. This continues the PHP 7.4 release cycle, the rough outline of\\n     which is specified in the <a href=\"https://wiki.php.net/todo/php74\">PHP\\n     Wiki</a>.\\n     </p>\\n     \\n     <p>\\n     For source downloads of PHP 7.4.0beta4 please visit the\\n     <a href=\"https://downloads.php.net/~derick\">download page</a>.\\n     </p>\\n     \\n     <p>\\n     Please carefully test this version and report any issues found in the <a href=\"https://bugs.php.net\">bug reporting system</a>.\\n     </p>\\n     \\n     <p>\\n     <b>Please DO NOT use this version in production, it is an early test\\n     version.</b>\\n     </p>\\n     \\n     <p>\\n     For more information on the new features and other changes, you can read the\\n     <a href=\"https://github.com/php/php-src/blob/php-7.4.0beta4/NEWS\">NEWS</a>\\n     file, or the\\n     <a href=\"https://github.com/php/php-src/blob/php-7.4.0beta4/UPGRADING\">UPGRADING</a>\\n     file for a complete list of upgrading notes. These files can also be found in\\n     the release archive.\\n     </p>\\n     \\n     <p>\\n     The next release would be <b>RC 1</b>, planned for September 5th.\\n     </p>\\n     \\n     <p>\\n     The signatures for the release can be found in\\n     <a href=\"https://gist.github.com/derickr/3c8d6ca0c4ec904fd5a3c47dbf9bf637\">the\\n     manifest</a> or on <a href=\"https://qa.php.net/\">the QA site</a>.\\n     </p>\\n     \\n     <p>Thank you for helping us make PHP better.</p>\\n    </div>\\n  \\n  </div>\\n</article><article class=\"newsentry\">\\n  <header class=\"title\">\\n    <time datetime=\"2019-08-08T08:15:01+00:00\">08 Aug 2019</time>\\n    <h2 class=\"newstitle\">\\n      <a href=\"https://www.php.net/archive/2019.php#2019-08-08-1\" id=\"2019-08-08-1\">PHP 7.4.0beta2 released!</a>\\n    </h2>\\n  </header>\\n  <div class=\"newscontent\">\\n    <div>\\n     <p>\\n     The PHP team is glad to announce the second beta release of PHP 7.4: PHP\\n     7.4.0beta2. This continues the PHP 7.4 release cycle, the rough outline of\\n     which is specified in the <a href=\"https://wiki.php.net/todo/php74\">PHP\\n     Wiki</a>.\\n     </p>\\n     \\n     <p>\\n     For source downloads of PHP 7.4.0beta2 please visit the\\n     <a href=\"https://downloads.php.net/~derick\">download page</a>.\\n     </p>\\n     \\n     <p>\\n     Please carefully test this version and report any issues found in the <a href=\"https://bugs.php.net\">bug reporting system</a>.\\n     </p>\\n     \\n     <p>\\n     <b>Please DO NOT use this version in production, it is an early test\\n     version.</b>\\n     </p>\\n     \\n     <p>\\n     For more information on the new features and other changes, you can read the\\n     <a href=\"https://github.com/php/php-src/blob/php-7.4.0beta2/NEWS\">NEWS</a>\\n     file, or the\\n     <a href=\"https://github.com/php/php-src/blob/php-7.4.0beta2/UPGRADING\">UPGRADING</a>\\n     file for a complete list of upgrading notes. These files can also be found in\\n     the release archive.\\n     </p>\\n     \\n     <p>\\n     The next release would be <b>Beta 3</b>, planned for August 22nd.\\n     </p>\\n     \\n     <p>\\n     The signatures for the release can be found in\\n     <a href=\"https://gist.github.com/derickr/4cec1996b1110f6127b51b90d9426bf9\">the\\n     manifest</a> or on <a href=\"https://qa.php.net/\">the QA site</a>.\\n     </p>\\n     \\n     <p>Thank you for helping us make PHP better.</p>\\n    </div>\\n  \\n  </div>\\n</article><article class=\"newsentry\">\\n  <header class=\"title\">\\n    <time datetime=\"2019-07-25T09:39:51+00:00\">25 Jul 2019</time>\\n    <h2 class=\"newstitle\">\\n      <a href=\"https://www.php.net/archive/2019.php#2019-07-25-1\" id=\"2019-07-25-1\">PHP 7.4.0beta1 released!</a>\\n    </h2>\\n  </header>\\n  <div class=\"newscontent\">\\n    <div>\\n     <p>\\n     The PHP team is glad to announce the first beta release of PHP 7.4: PHP\\n     7.4.0beta1. This continues the PHP 7.4 release cycle, the rough outline of\\n     which is specified in the <a href=\"https://wiki.php.net/todo/php74\">PHP\\n     Wiki</a>.\\n     </p>\\n     \\n     <p>\\n     For source downloads of PHP 7.4.0beta1 please visit the\\n     <a href=\"https://downloads.php.net/~derick\">download page</a>.\\n     </p>\\n     \\n     <p>\\n     Please carefully test this version and report any issues found in the <a href=\"http://bugs.php.net\">bug reporting system</a>.\\n     </p>\\n     \\n     <p>\\n     <b>Please DO NOT use this version in production, it is an early test\\n     version.</b>\\n     </p>\\n     \\n     <p>\\n     For more information on the new features and other changes, you can read the\\n     <a href=\"https://github.com/php/php-src/blob/php-7.4.0beta1/NEWS\">NEWS</a>\\n     file, or the\\n     <a href=\"https://github.com/php/php-src/blob/php-7.4.0beta1/UPGRADING\">UPGRADING</a>\\n     file for a complete list of upgrading notes. These files can also be found in\\n     the release archive.\\n     </p>\\n     \\n     <p>\\n     The next release would be <b>Beta 2</b>, planned for August 8th.\\n     </p>\\n     \\n     <p>\\n     The signatures for the release can be found in\\n     <a href=\"https://gist.github.com/derickr/6062a94c900289397130deb562ed17e1\">the\\n     manifest</a> or on <a href=\"https://qa.php.net/\">the QA site</a>.\\n     </p>\\n     \\n     <p>Thank you for helping us make PHP better.</p>\\n    </div>\\n  \\n  </div>\\n</article><article class=\"newsentry\">\\n  <header class=\"title\">\\n    <time datetime=\"2019-07-11T10:15:12+00:00\">11 Jul 2019</time>\\n    <h2 class=\"newstitle\">\\n      <a href=\"https://www.php.net/archive/2019.php#2019-07-11-1\" id=\"2019-07-11-1\">PHP 7.4.0 alpha 3 Released</a>\\n    </h2>\\n  </header>\\n  <div class=\"newscontent\">\\n    <div>\\n     <p>\\n     PHP team is glad to announce the release of the third PHP 7.4.0 version, PHP\\n     7.4.0 Alpha 3. This continues the PHP 7.4 release cycle, the rough outline of\\n     which is specified in the <a href=\"https://wiki.php.net/todo/php74\">PHP\\n     Wiki</a>.\\n     </p>\\n     \\n     <p>For source downloads of PHP 7.4.0 Alpha 3 please visit the <a href=\"https://downloads.php.net/~derick\">download page</a>.</p>\\n     \\n     <p>\\n     Please carefully test this version and report any issues found in the <a href=\"http://bugs.php.net\">bug reporting system</a>.\\n     </p>\\n     \\n     <p>\\n     <b>Please DO NOT use this version in production, it is an early test\\n     version.</b>\\n     </p>\\n     \\n     <p>\\n      For more information on the new features and other changes, you can read the\\n      <a href=\"https://github.com/php/php-src/blob/php-7.4.0alpha3/NEWS\">NEWS</a> file,\\n      or the <a href=\"https://github.com/php/php-src/blob/php-7.4.0alpha3/UPGRADING\">UPGRADING</a>\\n      file for a complete list of upgrading notes. These files can also be found in the release archive.\\n     </p>\\n     \\n     <p>\\n     The next release would be <b>Beta 1</b>, planned for July 25th.\\n     </p>\\n     \\n     <p>The signatures for the release can be found in <a href=\"https://gist.github.com/derickr/dc86e4edfedf69bd121026cbf3db8643\">the\\n     manifest</a> or on <a href=\"https://qa.php.net/\">the QA site</a>. </p>\\n     \\n     <p>Thank you for helping us make PHP better.</p>\\n    </div>\\n  \\n  </div>\\n</article><article class=\"newsentry\">\\n  <header class=\"title\">\\n    <time datetime=\"2019-06-26T23:34:49+00:00\">26 Jun 2019</time>\\n    <h2 class=\"newstitle\">\\n      <a href=\"https://www.php.net/archive/2019.php#id2019-06-26-1\" id=\"id2019-06-26-1\">PHP 7.4.0 alpha 2 Released</a>\\n    </h2>\\n  </header>\\n  <div class=\"newscontent\">\\n    <div>\\n     <p>\\n     PHP team is glad to announce the release of the second PHP 7.4.0 version, PHP 7.4.0 Alpha 2.\\n     This continues the PHP 7.4 release cycle, the rough outline of which is specified in the\\n     <a href=\"https://wiki.php.net/todo/php74\">PHP Wiki</a>.\\n     </p>\\n     \\n     <p>For source downloads of PHP 7.4.0 Alpha 2 please visit the <a href=\"https://downloads.php.net/~derick\">download page</a>.</p>\\n     \\n     <p>\\n     Please carefully test this version and report any issues found in the <a href=\"http://bugs.php.net\">bug reporting system</a>.\\n     </p>\\n     \\n     <p>\\n     <b>Please DO NOT use this version in production, it is an early test version.</b>\\n     </p>\\n     \\n     <p>\\n         For more information on the new features and other changes, you can read the\\n         <a href=\"https://github.com/php/php-src/blob/php-7.4.0alpha2/NEWS\">NEWS</a> file,\\n         or the <a href=\"https://github.com/php/php-src/blob/php-7.4.0alpha2/UPGRADING\">UPGRADING</a>\\n         file for a complete list of upgrading notes. These files can also be found in the release archive.\\n     </p>\\n     \\n     <p>\\n     The next release would be Alpha 3, planned for July 11th.\\n     </p>\\n     \\n     <p>The signatures for the release can be found in <a href=\"https://gist.github.com/derickr/0cb88c72a785ae8642ae1d81cc2e96f8\">the manifest</a> or on <a href=\"https://qa.php.net/\">the\\n     QA site</a>.\\n     </p>\\n     \\n     <p>Thank you for helping us make PHP better.</p>\\n    </div>\\n  \\n  </div>\\n</article><article class=\"newsentry\">\\n  <header class=\"title\">\\n    <time datetime=\"2019-06-13T11:24:11+00:00\">13 Jun 2019</time>\\n    <h2 class=\"newstitle\">\\n      <a href=\"https://www.php.net/archive/2019.php#id2019-06-13-1\" id=\"id2019-06-13-1\">PHP 7.4.0 alpha 1 Released</a>\\n    </h2>\\n  </header>\\n  <div class=\"newscontent\">\\n    <div>\\n     <p>\\n     PHP team is glad to announce the release of the first PHP 7.4.0 version, PHP 7.4.0 Alpha 1.\\n     This starts the PHP 7.4 release cycle, the rough outline of which is specified in the\\n     <a href=\"https://wiki.php.net/todo/php74\">PHP Wiki</a>.\\n     </p>\\n     \\n     <p>For source downloads of PHP 7.4.0 Alpha 1 please visit the <a href=\"https://downloads.php.net/~derick\">download page</a>.</p>\\n     \\n     <p>\\n     Please carefully test this version and report any issues found in the <a href=\" http://bugs.php.net\">bug reporting system</a>.\\n     </p>\\n     \\n     <p>\\n     <b>Please DO NOT use this version in production, it is an early test version.</b>\\n     </p>\\n     \\n     <p>\\n         For more information on the new features and other changes, you can read the\\n         <a href=\"https://github.com/php/php-src/blob/php-7.4.0alpha1/NEWS\">NEWS</a> file,\\n         or the <a href=\"https://github.com/php/php-src/blob/php-7.4.0alpha1/UPGRADING\">UPGRADING</a>\\n         file for a complete list of upgrading notes. These files can also be found in the release archive.\\n     </p>\\n     \\n     <p>\\n     The next release would be Alpha 2, planned for June 27.\\n     </p>\\n     \\n     <p>The signatures for the release can be found in <a href=\"https://gist.github.com/derickr/000139654a28966ae0bb74560f51f2a7\">the manifest</a> or on <a href=\"https://qa.php.net/\">the\\n     QA site</a>.\\n     </p>\\n     \\n     <p>Thank you for helping us make PHP better.</p>\\n    </div>\\n  \\n  </div>\\n</article><article class=\"newsentry\">\\n  <header class=\"title\">\\n    <time datetime=\"2018-11-22T12:22:47+01:00\">22 Nov 2018</time>\\n    <h2 class=\"newstitle\">\\n      <a href=\"https://www.php.net/archive/2018.php#id2018-11-22-1\" id=\"id2018-11-22-1\">PHP 7.3.0RC6 Released</a>\\n    </h2>\\n  </header>\\n  <div class=\"newscontent\">\\n    <div>\\n      <p>\\n        The PHP team is glad to announce the presumably last PHP 7.3.0 pre-release, PHP 7.3.0RC6.\\n        The rough outline of the PHP 7.3 release cycle is specified in the\\n        <a href=\"https://wiki.php.net/todo/php73\">PHP Wiki</a>.\\n      </p>\\n\\n      <p>\\n        For source downloads of PHP 7.3.0RC6 please visit the <a href=\"https://downloads.php.net/~cmb/\">download page</a>.\\n        Windows sources and binaries can be found on <a href=\"https://windows.php.net/qa/\">windows.php.net/qa/</a>.\\n      </p>\\n\\n      <p>\\n        Please carefully test this version and report any issues found in the <a href=\" https://bugs.php.net\">bug reporting system</a>.\\n      </p>\\n\\n      <p>\\n        <b>THIS IS A DEVELOPMENT PREVIEW - DO NOT USE IT IN PRODUCTION!</b>\\n      </p>\\n\\n      <p>\\n        For more information on the new features and other changes, you can read the\\n        <a href=\"https://github.com/php/php-src/blob/php-7.3.0RC6/NEWS\">NEWS</a> file,\\n        or the <a href=\"https://github.com/php/php-src/blob/php-7.3.0RC6/UPGRADING\">UPGRADING</a>\\n        file for a complete list of upgrading notes. Internal changes are listed in the\\n        <a href=\"https://github.com/php/php-src/blob/php-7.3.0RC6/UPGRADING.INTERNALS\">UPGRADING.INTERNALS</a> file.\\n        These files can also be found in the release archive.\\n      </p>\\n\\n      <p>\\n        The next release would be 7.3.0 (GA), planned for December 6th.\\n      </p>\\n\\n      <p>\\n        The signatures for the release can be found in <a href=\"https://gist.github.com/cmb69/6d9574612d0fb78b8549e42ec096a5a6\">the manifest</a>\\n        or on <a href=\"https://qa.php.net/\">the QA site</a>.\\n      </p>\\n\\n      <p>\\n        Thank you for helping us make PHP better.\\n      </p>\\n    </div>\\n  \\n  </div>\\n</article><article class=\"newsentry\">\\n  <header class=\"title\">\\n    <time datetime=\"2018-11-08T11:11:26+01:00\">08 Nov 2018</time>\\n    <h2 class=\"newstitle\">\\n      <a href=\"https://www.php.net/archive/2018.php#id2018-11-08-1\" id=\"id2018-11-08-1\">PHP 7.3.0RC5 Released</a>\\n    </h2>\\n  </header>\\n  <div class=\"newscontent\">\\n    <div>\\n      <p>\\n        The PHP team is glad to announce the next PHP 7.3.0 pre-release, PHP 7.3.0RC5.\\n        The rough outline of the PHP 7.3 release cycle is specified in the\\n        <a href=\"https://wiki.php.net/todo/php73\">PHP Wiki</a>.\\n      </p>\\n\\n      <p>\\n        For source downloads of PHP 7.3.0RC5 please visit the <a href=\"https://downloads.php.net/~cmb/\">download page</a>.\\n        Windows sources and binaries can be found on <a href=\"https://windows.php.net/qa/\">windows.php.net/qa/</a>.\\n      </p>\\n\\n      <p>\\n        Please carefully test this version and report any issues found in the <a href=\" https://bugs.php.net\">bug reporting system</a>.\\n      </p>\\n\\n      <p>\\n        <b>THIS IS A DEVELOPMENT PREVIEW - DO NOT USE IT IN PRODUCTION!</b>\\n      </p>\\n\\n      <p>\\n        For more information on the new features and other changes, you can read the\\n        <a href=\"https://github.com/php/php-src/blob/php-7.3.0RC5/NEWS\">NEWS</a> file,\\n        or the <a href=\"https://github.com/php/php-src/blob/php-7.3.0RC5/UPGRADING\">UPGRADING</a>\\n        file for a complete list of upgrading notes. Internal changes are listed in the\\n        <a href=\"https://github.com/php/php-src/blob/php-7.3.0RC5/UPGRADING.INTERNALS\">UPGRADING.INTERNALS</a> file.\\n        These files can also be found in the release archive.\\n      </p>\\n\\n      <p>\\n        The next release would be RC6, planned for November 22nd.\\n      </p>\\n\\n      <p>\\n        The signatures for the release can be found in <a href=\"https://gist.github.com/cmb69/a14634afdd52b7f69d65d2bd5a79ac99\">the manifest</a>\\n        or on <a href=\"https://qa.php.net/\">the QA site</a>.\\n      </p>\\n\\n      <p>\\n        Thank you for helping us make PHP better.\\n      </p>\\n    </div>\\n  \\n  </div>\\n</article><article class=\"newsentry\">\\n  <header class=\"title\">\\n    <time datetime=\"2018-10-25T11:07:32+02:00\">25 Oct 2018</time>\\n    <h2 class=\"newstitle\">\\n      <a href=\"https://www.php.net/archive/2018.php#id2018-10-25-1\" id=\"id2018-10-25-1\">PHP 7.3.0RC4 Released</a>\\n    </h2>\\n  </header>\\n  <div class=\"newscontent\">\\n    <div>\\n      <p>\\n        The PHP team is glad to announce the next PHP 7.3.0 pre-release, PHP 7.3.0RC4.\\n        The rough outline of the PHP 7.3 release cycle is specified in the\\n        <a href=\"https://wiki.php.net/todo/php73\">PHP Wiki</a>.\\n      </p>\\n\\n      <p>\\n        For source downloads of PHP 7.3.0RC4 please visit the <a href=\"https://downloads.php.net/~cmb/\">download page</a>.\\n        Windows sources and binaries can be found on <a href=\"https://windows.php.net/qa/\">windows.php.net/qa/</a>.\\n      </p>\\n\\n      <p>\\n        Please carefully test this version and report any issues found in the <a href=\" https://bugs.php.net\">bug reporting system</a>.\\n      </p>\\n\\n      <p>\\n        <b>THIS IS A DEVELOPMENT PREVIEW - DO NOT USE IT IN PRODUCTION!</b>\\n      </p>\\n\\n      <p>\\n        For more information on the new features and other changes, you can read the\\n        <a href=\"https://github.com/php/php-src/blob/php-7.3.0RC4/NEWS\">NEWS</a> file,\\n        or the <a href=\"https://github.com/php/php-src/blob/php-7.3.0RC4/UPGRADING\">UPGRADING</a>\\n        file for a complete list of upgrading notes. Internal changes are listed in the\\n        <a href=\"https://github.com/php/php-src/blob/php-7.3.0RC4/UPGRADING.INTERNALS\">UPGRADING.INTERNALS</a> file.\\n        These files can also be found in the release archive.\\n      </p>\\n\\n      <p>\\n        The next release would be RC5, planned for November 8th.\\n      </p>\\n\\n      <p>\\n        The signatures for the release can be found in <a href=\"https://gist.github.com/cmb69/594d9a18290f1b019b2ba68a098413c6\">the manifest</a>\\n        or on <a href=\"https://qa.php.net/\">the QA site</a>.\\n      </p>\\n\\n      <p>\\n        Thank you for helping us make PHP better.\\n      </p>\\n    </div>\\n  \\n  </div>\\n</article><article class=\"newsentry\">\\n  <header class=\"title\">\\n    <time datetime=\"2018-10-11T13:47:50+02:00\">11 Oct 2018</time>\\n    <h2 class=\"newstitle\">\\n      <a href=\"https://www.php.net/archive/2018.php#id2018-10-11-1\" id=\"id2018-10-11-1\">PHP 7.3.0RC3 Released</a>\\n    </h2>\\n  </header>\\n  <div class=\"newscontent\">\\n    <div>\\n      <p>\\n        The PHP team is glad to announce the next PHP 7.3.0 pre-release, PHP 7.3.0RC3.\\n        The rough outline of the PHP 7.3 release cycle is specified in the\\n        <a href=\"https://wiki.php.net/todo/php73\">PHP Wiki</a>.\\n      </p>\\n\\n      <p>\\n        For source downloads of PHP 7.3.0RC3 please visit the <a href=\"https://downloads.php.net/~cmb/\">download page</a>.\\n        Windows sources and binaries can be found on <a href=\"https://windows.php.net/qa/\">windows.php.net/qa/</a>.\\n      </p>\\n\\n      <p>\\n        Please carefully test this version and report any issues found in the <a href=\" https://bugs.php.net\">bug reporting system</a>.\\n      </p>\\n\\n      <p>\\n        <b>THIS IS A DEVELOPMENT PREVIEW - DO NOT USE IT IN PRODUCTION!</b>\\n      </p>\\n\\n      <p>\\n        For more information on the new features and other changes, you can read the\\n        <a href=\"https://github.com/php/php-src/blob/php-7.3.0RC3/NEWS\">NEWS</a> file,\\n        or the <a href=\"https://github.com/php/php-src/blob/php-7.3.0RC3/UPGRADING\">UPGRADING</a>\\n        file for a complete list of upgrading notes. Internal changes are listed in the\\n        <a href=\"https://github.com/php/php-src/blob/php-7.3.0RC3/UPGRADING.INTERNALS\">UPGRADING.INTERNALS</a> file.\\n        These files can also be found in the release archive.\\n      </p>\\n\\n      <p>\\n        The next release would be RC4, planned for October 25th.\\n      </p>\\n\\n      <p>\\n        The signatures for the release can be found in <a href=\"https://gist.github.com/cmb69/3b521933b5524c92e880fc96559a5f5c\">the manifest</a>\\n        or on <a href=\"https://qa.php.net/\">the QA site</a>.\\n      </p>\\n\\n      <p>\\n        Thank you for helping us make PHP better.\\n      </p>\\n    </div>\\n  \\n  </div>\\n</article><article class=\"newsentry\">\\n  <header class=\"title\">\\n    <time datetime=\"2018-09-28T10:31:16+02:00\">28 Sep 2018</time>\\n    <h2 class=\"newstitle\">\\n      <a href=\"https://www.php.net/archive/2018.php#id2018-09-28-1\" id=\"id2018-09-28-1\">PHP 7.3.0RC2 Released</a>\\n    </h2>\\n  </header>\\n  <div class=\"newscontent\">\\n    <div>\\n      <p>\\n        The PHP team is glad to announce the next PHP 7.3.0 pre-release, PHP 7.3.0RC2.\\n        The rough outline of the PHP 7.3 release cycle is specified in the\\n        <a href=\"https://wiki.php.net/todo/php73\">PHP Wiki</a>.\\n      </p>\\n\\n      <p>\\n        For source downloads of PHP 7.3.0RC2 please visit the <a href=\"https://downloads.php.net/~cmb/\">download page</a>.\\n        Windows sources and binaries can be found on <a href=\"https://windows.php.net/qa/\">windows.php.net/qa/</a>.\\n      </p>\\n\\n      <p>\\n        Please carefully test this version and report any issues found in the <a href=\" https://bugs.php.net\">bug reporting system</a>.\\n      </p>\\n\\n      <p>\\n        <b>THIS IS A DEVELOPMENT PREVIEW - DO NOT USE IT IN PRODUCTION!</b>\\n      </p>\\n\\n      <p>\\n        For more information on the new features and other changes, you can read the\\n        <a href=\"https://github.com/php/php-src/blob/php-7.3.0RC2/NEWS\">NEWS</a> file,\\n        or the <a href=\"https://github.com/php/php-src/blob/php-7.3.0RC2/UPGRADING\">UPGRADING</a>\\n        file for a complete list of upgrading notes. Internal changes are listed in the\\n        <a href=\"https://github.com/php/php-src/blob/php-7.3.0RC2/UPGRADING.INTERNALS\">UPGRADING.INTERNALS</a> file.\\n        These files can also be found in the release archive.\\n      </p>\\n\\n      <p>\\n        The next release would be RC3, planned for October 11th.\\n      </p>\\n\\n      <p>\\n        The signatures for the release can be found in <a href=\"https://gist.github.com/cmb69/ffe9373d127254a19e73e73251e4ff7d\">the manifest</a>\\n        or on <a href=\"https://qa.php.net/\">the QA site</a>.\\n      </p>\\n\\n      <p>\\n        Thank you for helping us make PHP better.\\n      </p>\\n    </div>\\n  \\n  </div>\\n</article><article class=\"newsentry\">\\n  <header class=\"title\">\\n    <time datetime=\"2018-09-13T10:57:40+02:00\">13 Sep 2018</time>\\n    <h2 class=\"newstitle\">\\n      <a href=\"https://www.php.net/archive/2018.php#id2018-09-13-2\" id=\"id2018-09-13-2\">PHP 7.3.0RC1 Released</a>\\n    </h2>\\n  </header>\\n  <div class=\"newscontent\">\\n    <div>\\n      <p>\\n        The PHP team is glad to announce the release of the next PHP 7.3.0 pre-release, PHP 7.3.0RC1.\\n        The rough outline of the PHP 7.3 release cycle is specified in the\\n        <a href=\"https://wiki.php.net/todo/php73\">PHP Wiki</a>.\\n      </p>\\n\\n      <p>\\n        For source downloads of PHP 7.3.0RC1 please visit the <a href=\"https://downloads.php.net/~cmb/\">download page</a>.\\n        Windows sources and binaries can be found on <a href=\"https://windows.php.net/qa/\">windows.php.net/qa/</a>.\\n      </p>\\n\\n      <p>\\n        Please carefully test this version and report any issues found in the <a href=\" https://bugs.php.net\">bug reporting system</a>.\\n      </p>\\n\\n      <p>\\n        <b>THIS IS A DEVELOPMENT PREVIEW - DO NOT USE IT IN PRODUCTION!</b>\\n      </p>\\n\\n      <p>\\n        For more information on the new features and other changes, you can read the\\n        <a href=\"https://github.com/php/php-src/blob/php-7.3.0RC1/NEWS\">NEWS</a> file,\\n        or the <a href=\"https://github.com/php/php-src/blob/php-7.3.0RC1/UPGRADING\">UPGRADING</a>\\n        file for a complete list of upgrading notes. Internal changes are listed in the\\n        <a href=\"https://github.com/php/php-src/blob/php-7.3.0RC1/UPGRADING.INTERNALS\">UPGRADING.INTERNALS</a> file.\\n        These files can also be found in the release archive.\\n      </p>\\n\\n      <p>\\n        The next release would be RC2, planned for September 27th.\\n      </p>\\n\\n      <p>\\n        The signatures for the release can be found in <a href=\"https://gist.github.com/cmb69/224ae1ef28b1e3f2e0a62a4ab50966e4\">the manifest</a>\\n        or on <a href=\"https://qa.php.net/\">the QA site</a>.\\n      </p>\\n\\n      <p>\\n        Thank you for helping us make PHP better.\\n      </p>\\n    </div>\\n  \\n  </div>\\n</article><article class=\"newsentry\">\\n  <header class=\"title\">\\n    <time datetime=\"2018-08-30T17:37:34+02:00\">30 Aug 2018</time>\\n    <h2 class=\"newstitle\">\\n      <a href=\"https://www.php.net/archive/2018.php#id2018-08-30-1\" id=\"id2018-08-30-1\">PHP 7.3.0.beta3 Released</a>\\n    </h2>\\n  </header>\\n  <div class=\"newscontent\">\\n    <div>\\n      <p>\\n        The PHP team is glad to announce the release of the seventh PHP 7.3.0 version, PHP 7.3.0beta3.\\n        The rough outline of the PHP 7.3 release cycle is specified in the\\n        <a href=\"https://wiki.php.net/todo/php73\">PHP Wiki</a>.\\n      </p>\\n\\n      <p>\\n        For source downloads of PHP 7.3.0beta3 please visit the <a href=\"https://downloads.php.net/~cmb/\">download page</a>.\\n        Windows sources and binaries can be found on <a href=\"https://windows.php.net/qa/\">windows.php.net/qa/</a>.\\n      </p>\\n\\n      <p>\\n        Please carefully test this version and report any issues found in the <a href=\" https://bugs.php.net\">bug reporting system</a>.\\n      </p>\\n\\n      <p>\\n        <b>THIS IS A DEVELOPMENT PREVIEW - DO NOT USE IT IN PRODUCTION!</b>\\n      </p>\\n\\n      <p>\\n        For more information on the new features and other changes, you can read the\\n        <a href=\"https://github.com/php/php-src/blob/php-7.3.0beta3/NEWS\">NEWS</a> file,\\n        or the <a href=\"https://github.com/php/php-src/blob/php-7.3.0beta3/UPGRADING\">UPGRADING</a>\\n        file for a complete list of upgrading notes. Internal changes are listed in the\\n        <a href=\"https://github.com/php/php-src/blob/php-7.3.0beta3/UPGRADING.INTERNALS\">UPGRADING.INTERNALS</a> file.\\n        These files can also be found in the release archive.\\n      </p>\\n\\n      <p>\\n        The next release would be RC1, planned for September 13th.\\n      </p>\\n\\n      <p>\\n        The signatures for the release can be found in <a href=\"https://gist.github.com/cmb69/aeef8c8877a451ba6fce6f990dd3860b\">the manifest</a>\\n        or on <a href=\"https://qa.php.net/\">the QA site</a>.\\n      </p>\\n\\n      <p>\\n        Thank you for helping us make PHP better.\\n      </p>\\n    </div>\\n  \\n  </div>\\n</article><article class=\"newsentry\">\\n  <header class=\"title\">\\n    <time datetime=\"2018-08-16T14:11:38+02:00\">16 Aug 2018</time>\\n    <h2 class=\"newstitle\">\\n      <a href=\"https://www.php.net/archive/2018.php#id2018-08-16-1\" id=\"id2018-08-16-1\">PHP 7.3.0.beta2 Released</a>\\n    </h2>\\n  </header>\\n  <div class=\"newscontent\">\\n    <div>\\n      <p>\\n        The PHP team is glad to announce the release of the sixth PHP 7.3.0 version, PHP 7.3.0beta2.\\n        The rough outline of the PHP 7.3 release cycle is specified in the\\n        <a href=\"https://wiki.php.net/todo/php73\">PHP Wiki</a>.\\n      </p>\\n\\n      <p>\\n        For source downloads of PHP 7.3.0beta2 please visit the <a href=\"https://downloads.php.net/~cmb/\">download page</a>.\\n        Windows sources and binaries can be found on <a href=\"https://windows.php.net/qa/\">windows.php.net/qa/</a>.\\n      </p>\\n\\n      <p>\\n        Please carefully test this version and report any issues found in the <a href=\" https://bugs.php.net\">bug reporting system</a>.\\n      </p>\\n\\n      <p>\\n        <b>THIS IS A DEVELOPMENT PREVIEW - DO NOT USE IT IN PRODUCTION!</b>\\n      </p>\\n\\n      <p>\\n        For more information on the new features and other changes, you can read the\\n        <a href=\"https://github.com/php/php-src/blob/php-7.3.0beta2/NEWS\">NEWS</a> file,\\n        or the <a href=\"https://github.com/php/php-src/blob/php-7.3.0beta2/UPGRADING\">UPGRADING</a>\\n        file for a complete list of upgrading notes. Internal changes are listed in the\\n        <a href=\"https://github.com/php/php-src/blob/php-7.3.0beta2/UPGRADING.INTERNALS\">UPGRADING.INTERNALS</a> file.\\n        These files can also be found in the release archive.\\n      </p>\\n\\n      <p>\\n        The next release would be Beta 3, planned for August 30th.\\n      </p>\\n\\n      <p>\\n        The signatures for the release can be found in <a href=\"https://gist.github.com/cmb69/4bfd2f4d54ebc01cd37ba3dc86f1f814\">the manifest</a>\\n        or on <a href=\"https://qa.php.net/\">the QA site</a>.\\n      </p>\\n\\n      <p>\\n        Thank you for helping us make PHP better.\\n      </p>\\n    </div>\\n  \\n  </div>\\n</article><article class=\"newsentry\">\\n  <header class=\"title\">\\n    <time datetime=\"2018-08-02T11:44:58+02:00\">02 Aug 2018</time>\\n    <h2 class=\"newstitle\">\\n      <a href=\"https://www.php.net/archive/2018.php#id2018-08-02-1\" id=\"id2018-08-02-1\">PHP 7.3.0.beta1 Released</a>\\n    </h2>\\n  </header>\\n  <div class=\"newscontent\">\\n    <div>\\n      <p>\\n        The PHP team is glad to announce the release of the fifth PHP 7.3.0 version, PHP 7.3.0beta1.\\n        The rough outline of the PHP 7.3 release cycle is specified in the\\n        <a href=\"https://wiki.php.net/todo/php73\">PHP Wiki</a>.\\n      </p>\\n\\n      <p>\\n        For source downloads of PHP 7.3.0beta1 please visit the <a href=\"https://downloads.php.net/~cmb/\">download page</a>.\\n        Windows sources and binaries can be found on <a href=\"https://windows.php.net/qa/\">windows.php.net/qa/</a>.\\n      </p>\\n\\n      <p>\\n        Please carefully test this version and report any issues found in the <a href=\" https://bugs.php.net\">bug reporting system</a>.\\n      </p>\\n\\n      <p>\\n        <b>THIS IS A DEVELOPMENT PREVIEW - DO NOT USE IT IN PRODUCTION!</b>\\n      </p>\\n\\n      <p>\\n        For more information on the new features and other changes, you can read the\\n        <a href=\"https://github.com/php/php-src/blob/php-7.3.0beta1/NEWS\">NEWS</a> file,\\n        or the <a href=\"https://github.com/php/php-src/blob/php-7.3.0beta1/UPGRADING\">UPGRADING</a>\\n        file for a complete list of upgrading notes. These files can also be found in the release archive.\\n      </p>\\n\\n      <p>\\n        The next release would be Beta 2, planned for August 16th.\\n      </p>\\n\\n      <p>\\n        The signatures for the release can be found in <a href=\"https://gist.github.com/cmb69/e666c3f1622321f868de9282bee67e43\">the manifest</a>\\n        or on <a href=\"https://qa.php.net/\">the QA site</a>.\\n      </p>\\n\\n      <p>\\n        Thank you for helping us make PHP better.\\n      </p>\\n\\n    </div>\\n  \\n  </div>\\n</article><article class=\"newsentry\">\\n  <header class=\"title\">\\n    <time datetime=\"2018-07-19T11:02:21+02:00\">19 Jul 2018</time>\\n    <h2 class=\"newstitle\">\\n      <a href=\"https://www.php.net/archive/2018.php#id2018-07-19-1\" id=\"id2018-07-19-1\">PHP 7.3.0alpha4 Released</a>\\n    </h2>\\n  </header>\\n  <div class=\"newscontent\">\\n    <div>\\n      <p>\\n        The PHP team is glad to announce the release of the fourth PHP 7.3.0 version, PHP 7.3.0alpha4.\\n        The rough outline of the PHP 7.3 release cycle is specified in the\\n        <a href=\"https://wiki.php.net/todo/php73\">PHP Wiki</a>.\\n      </p>\\n\\n      <p>\\n        For source downloads of PHP 7.3.0alpha4 please visit the <a href=\"https://downloads.php.net/~cmb/\">download page</a>.\\n        Windows sources and binaries can be found on <a href=\"https://windows.php.net/qa/\">windows.php.net/qa/</a>.\\n      </p>\\n\\n      <p>\\n        Please carefully test this version and report any issues found in the <a href=\" https://bugs.php.net\">bug reporting system</a>.\\n      </p>\\n\\n      <p>\\n        <b>THIS IS A DEVELOPMENT PREVIEW - DO NOT USE IT IN PRODUCTION!</b>\\n      </p>\\n\\n      <p>\\n        For more information on the new features and other changes, you can read the\\n        <a href=\"https://github.com/php/php-src/blob/php-7.3.0alpha4/NEWS\">NEWS</a> file,\\n        or the <a href=\"https://github.com/php/php-src/blob/php-7.3.0alpha4/UPGRADING\">UPGRADING</a>\\n        file for a complete list of upgrading notes. These files can also be found in the release archive.\\n      </p>\\n\\n      <p>\\n        The next release would be Beta 1, planned for August 2nd.\\n      </p>\\n\\n      <p>\\n        The signatures for the release can be found in <a href=\"https://gist.github.com/cmb69/b30366855341382046687ce7adb20f69\">the manifest</a> or on <a href=\"https://qa.php.net/\">the QA site</a>.\\n      </p>\\n\\n      <p>\\n        Thank you for helping us make PHP better.\\n      </p>\\n    </div>\\n  \\n  </div>\\n</article><article class=\"newsentry\">\\n  <header class=\"title\">\\n    <time datetime=\"2018-07-05T11:41:41+02:00\">05 Jul 2018</time>\\n    <h2 class=\"newstitle\">\\n      <a href=\"https://www.php.net/archive/2018.php#id2018-07-05-1\" id=\"id2018-07-05-1\">PHP 7.3.0 alpha 3 Released</a>\\n    </h2>\\n  </header>\\n  <div class=\"newscontent\">\\n    <div>\\n     <p>\\n      The PHP team is glad to announce the release of the third PHP 7.3.0 version, PHP 7.3.0 Alpha 3.\\n      The rough outline of the PHP 7.3 release cycle is specified in the\\n      <a href=\"https://wiki.php.net/todo/php73\">PHP Wiki</a>.\\n     </p>\\n\\n     <p>\\n      For source downloads of PHP 7.3.0 Alpha 3 please visit the <a href=\"https://downloads.php.net/~cmb/\">download page</a>.\\n      Windows sources and binaries can be found on <a href=\"https://windows.php.net/qa/\">windows.php.net/qa/</a>.\\n     </p>\\n\\n     <p>\\n      Please carefully test this version and report any issues found in the <a href=\" http://bugs.php.net\">bug reporting system</a>.\\n     </p>\\n\\n     <p>\\n      <b>THIS IS A DEVELOPMENT PREVIEW - DO NOT USE IT IN PRODUCTION!</b>\\n     </p>\\n\\n     <p>\\n      For more information on the new features and other changes, you can read the\\n      <a href=\"https://github.com/php/php-src/blob/php-7.3.0alpha3/NEWS\">NEWS</a> file,\\n      or the <a href=\"https://github.com/php/php-src/blob/php-7.3.0alpha3/UPGRADING\">UPGRADING</a>\\n      file for a complete list of upgrading notes. These files can also be found in the release archive.\\n     </p>\\n\\n     <p>\\n      The next release would be Beta 1, planned for July 19th.\\n     </p>\\n\\n     <p>\\n      The signatures for the release can be found in <a href=\"https://gist.github.com/cmb69/e2e76ac0072474b019b0c9f1aef249f1\">the manifest</a> or on <a href=\"https://qa.php.net/\">the QA site</a>.\\n     </p>\\n\\n     <p>\\n      Thank you for helping us make PHP better.\\n     </p>\\n    </div>\\n  \\n  </div>\\n</article><article class=\"newsentry\">\\n  <header class=\"title\">\\n    <time datetime=\"2018-06-21T11:46:20+02:00\">21 Jun 2018</time>\\n    <h2 class=\"newstitle\">\\n      <a href=\"https://www.php.net/archive/2018.php#id2018-06-21-1\" id=\"id2018-06-21-1\">PHP 7.3.0 alpha 2 Released</a>\\n    </h2>\\n  </header>\\n  <div class=\"newscontent\">\\n    <div>\\n     <p>\\n      The PHP team is glad to announce the release of the second PHP 7.3.0 version, PHP 7.3.0 Alpha 2.\\n      The rough outline of the PHP 7.3 release cycle is specified in the\\n      <a href=\"https://wiki.php.net/todo/php73\">PHP Wiki</a>.\\n     </p>\\n\\n     <p>\\n      For source downloads of PHP 7.3.0 Alpha 2 please visit the <a href=\"https://downloads.php.net/~cmb/\">download page</a>.\\n      Windows sources and binaries can be found on <a href=\"https://windows.php.net/qa/\">windows.php.net/qa/</a>.\\n     </p>\\n\\n     <p>\\n      Please carefully test this version and report any issues found in the <a href=\" http://bugs.php.net\">bug reporting system</a>.\\n     </p>\\n\\n     <p>\\n      <b>THIS IS A DEVELOPMENT PREVIEW - DO NOT USE IT IN PRODUCTION!</b>\\n     </p>\\n\\n     <p>\\n      For more information on the new features and other changes, you can read the\\n      <a href=\"https://github.com/php/php-src/blob/php-7.3.0alpha2/NEWS\">NEWS</a> file,\\n      or the <a href=\"https://github.com/php/php-src/blob/php-7.3.0alpha2/UPGRADING\">UPGRADING</a>\\n      file for a complete list of upgrading notes. These files can also be found in the release archive.\\n     </p>\\n\\n     <p>\\n      The next release would be Alpha 3, planned for July 5.\\n     </p>\\n\\n     <p>\\n      The signatures for the release can be found in <a href=\"https://gist.github.com/cmb69/2c54d0972b296a905062f52c0852e7cb\">the manifest</a> or on <a href=\"https://qa.php.net/\">the QA site</a>.\\n     </p>\\n\\n     <p>\\n      Thank you for helping us make PHP better.\\n     </p>\\n    </div>\\n  \\n  </div>\\n</article><article class=\"newsentry\">\\n  <header class=\"title\">\\n    <time datetime=\"2018-06-07T18:36:37+00:00\">07 Jun 2018</time>\\n    <h2 class=\"newstitle\">\\n      <a href=\"https://www.php.net/archive/2018.php#id2018-06-07-1\" id=\"id2018-06-07-1\">PHP 7.3.0 alpha 1 Released</a>\\n    </h2>\\n  </header>\\n  <div class=\"newscontent\">\\n    <div>\\n     <p>\\n     PHP team is glad to announce the release of the first PHP 7.3.0 version, PHP 7.3.0 Alpha 1.\\n\\t This starts the PHP 7.3 release cycle, the rough outline of which is specified in the\\n\\t <a href=\"https://wiki.php.net/todo/php73\">PHP Wiki</a>.\\n     </p>\\n\\n     <p>For source downloads of PHP 7.3.0 Alpha 1 please visit the <a href=\"https://downloads.php.net/~stas/\">download page</a>.</p>\\n\\n     <p>\\n     Please carefully test this version and report any issues found in the <a href=\" http://bugs.php.net\">bug reporting system</a>.\\n     </p>\\n\\n     <p>\\n     <b>Please DO NOT use this version in production, it is an early test version.</b>\\n     </p>\\n\\n     <p>\\n\\t     For more information on the new features and other changes, you can read the\\n\\t     <a href=\"https://github.com/php/php-src/blob/php-7.3.0alpha1/NEWS\">NEWS</a> file,\\n\\t     or the <a href=\"https://github.com/php/php-src/blob/php-7.3.0alpha1/UPGRADING\">UPGRADING</a>\\n\\t     file for a complete list of upgrading notes. These files can also be found in the release archive.\\n\\t </p>\\n\\n     <p>\\n     The next release would be Alpha 2, planned for June 21.\\n     </p>\\n\\n     <p>The signatures for the release can be found in <a href=\"https://gist.github.com/smalyshev/b0994d4dd138007237911429702ee040\">the manifest</a> or on <a href=\"https://qa.php.net/\">the QA site</a>.\\n     </p>\\n\\n     <p>Thank you for helping us make PHP better.</p>\\n    </div>\\n  \\n  </div>\\n</article><article class=\"newsentry\">\\n  <header class=\"title\">\\n    <time datetime=\"2018-02-01T09:12:34+00:00\">01 Feb 2018</time>\\n    <h2 class=\"newstitle\">\\n      <a href=\"https://www.php.net/archive/2018.php#id2018-02-01-1\" id=\"id2018-02-01-1\">PHP 7.2.2 Released</a>\\n    </h2>\\n  </header>\\n  <div class=\"newscontent\">\\n    <div>\\n      <p>The PHP development team announces the immediate availability of PHP\\n      7.2.2. This is a bugfix release, with several bug fixes included.</p>\\n\\n      <p>All PHP 7.2 users are encouraged to upgrade to this version.</p>\\n\\n      <p>For source downloads of PHP 7.2.2 please visit our <a href=\"http://www.php.net/downloads.php\">downloads page</a>,\\n      Windows source and binaries can be found on <a href=\"http://windows.php.net/download/\">windows.php.net/download/</a>.\\n      The list of changes is recorded in the <a href=\"http://www.php.net/ChangeLog-7.php#7.2.2\">ChangeLog</a>.\\n      </p>\\n    </div>\\n  \\n  </div>\\n</article><article class=\"newsentry\">\\n  <header class=\"title\">\\n    <time datetime=\"2017-10-12T11:46:49+02:00\">12 Oct 2017</time>\\n    <h2 class=\"newstitle\">\\n      <a href=\"https://www.php.net/archive/2017.php#id2017-10-12-1\" id=\"id2017-10-12-1\">PHP 7.2.0 Release Candidate 4 Released</a>\\n    </h2>\\n  </header>\\n  <div class=\"newscontent\">\\n    <div>\\n     <p>\\n     The PHP development team announces the immediate availability of PHP 7.2.0 RC4.\\n     This release is the fourth Release Candidate for 7.2.0.\\n     All users of PHP are encouraged to test this version carefully, and report any bugs\\n     and incompatibilities in the <a href=\"https://bugs.php.net/\">bug tracking system</a>.\\n     </p>\\n\\n     <p><strong>THIS IS A DEVELOPMENT PREVIEW - DO NOT USE IT IN PRODUCTION!</strong></p>\\n\\n     <p>\\n     For more information on the new features and other changes, you can read the\\n     <a href=\"https://github.com/php/php-src/blob/php-7.2.0RC4/NEWS\">NEWS</a> file,\\n     or the <a href=\"https://github.com/php/php-src/blob/php-7.2.0RC4/UPGRADING\">UPGRADING</a>\\n     file for a complete list of upgrading notes. These files can also be found in the release archive.\\n     </p>\\n\\n     <p>\\n     For source downloads of PHP 7.2.0 Release Candidate 4 please visit the\\n     <a href=\"https://downloads.php.net/~remi/\">download</a> page,\\n     Windows sources and binaries can be found at\\n     <a href=\"http://windows.php.net/qa/\">windows.php.net/qa/</a>.\\n     </p>\\n\\n     <p>\\n     The next Release Candidate will be announced on the 26th of October.\\n     You can also read the full list of planned releases on\\n     <a href=\"https://wiki.php.net/todo/php72\">our wiki</a>.\\n     </p>\\n\\n     <p>Thank you for helping us make PHP better.</p>\\n    </div>\\n  \\n  </div>\\n</article><article class=\"newsentry\">\\n  <header class=\"title\">\\n    <time datetime=\"2017-09-28T12:58:56+02:00\">28 Sep 2017</time>\\n    <h2 class=\"newstitle\">\\n      <a href=\"https://www.php.net/archive/2017.php#id2017-09-28-2\" id=\"id2017-09-28-2\">PHP 7.2.0 Release Candidate 3 Released</a>\\n    </h2>\\n  </header>\\n  <div class=\"newscontent\">\\n    <div>\\n     <p>\\n     The PHP development team announces the immediate availability of PHP 7.2.0 RC3.\\n     This release is the third Release Candidate for 7.2.0.\\n     All users of PHP are encouraged to test this version carefully, and report any bugs\\n     and incompatibilities in the <a href=\"https://bugs.php.net/\">bug tracking system</a>.\\n     </p>\\n\\n     <p><strong>THIS IS A DEVELOPMENT PREVIEW - DO NOT USE IT IN PRODUCTION!</strong></p>\\n\\n     <p>\\n     For more information on the new features and other changes, you can read the\\n     <a href=\"https://github.com/php/php-src/blob/php-7.2.0RC3/NEWS\">NEWS</a> file,\\n     or the <a href=\"https://github.com/php/php-src/blob/php-7.2.0RC3/UPGRADING\">UPGRADING</a>\\n     file for a complete list of upgrading notes. These files can also be found in the release archive.\\n     </p>\\n\\n     <p>\\n     For source downloads of PHP 7.2.0 Release Candidate 3 please visit the\\n     <a href=\"https://downloads.php.net/~remi/\">download</a> page,\\n     Windows sources and binaries can be found at\\n     <a href=\"http://windows.php.net/qa/\">windows.php.net/qa/</a>.\\n     </p>\\n\\n     <p>\\n     The next Release Candidate will be announced on the 12th of October.\\n     You can also read the full list of planned releases on\\n     <a href=\"https://wiki.php.net/todo/php72\">our wiki</a>.\\n     </p>\\n\\n     <p>Thank you for helping us make PHP better.</p>\\n    </div>\\n  \\n  </div>\\n</article><article class=\"newsentry\">\\n  <header class=\"title\">\\n    <time datetime=\"2017-08-31T10:53:58+02:00\">31 Aug 2017</time>\\n    <h2 class=\"newstitle\">\\n      <a href=\"https://www.php.net/archive/2017.php#id2017-08-31-1\" id=\"id2017-08-31-1\">PHP 7.2.0 Release Candidate 1 Released</a>\\n    </h2>\\n  </header>\\n  <div class=\"newscontent\">\\n    <div>\\n      <p>\\n      The PHP development team announces the immediate availability of PHP 7.2.0 Release\\n      Candidate 1. This release is the first Release Candidate for 7.2.0.\\n      All users of PHP are encouraged to test this version carefully, and report any bugs\\n      and incompatibilities in the <a href=\"https://bugs.php.net/\">bug tracking system</a>.\\n      </p>\\n\\n      <p><strong>THIS IS A DEVELOPMENT PREVIEW - DO NOT USE IT IN PRODUCTION!</strong></p>\\n\\n      <p>\\n      For more information on the new features and other changes, you can read the\\n      <a href=\"https://github.com/php/php-src/blob/php-7.2.0RC1/NEWS\">NEWS</a> file,\\n      or the <a href=\"https://github.com/php/php-src/blob/php-7.2.0RC1/UPGRADING\">UPGRADING</a>\\n      file for a complete list of upgrading notes. These files can also be found in the release archive.\\n      </p>\\n\\n      <p>\\n      For source downloads of PHP 7.2.0 Release Candidate 1 please visit the\\n      <a href=\"https://downloads.php.net/~remi/\">download</a> page,\\n      Windows sources and binaries can be found at\\n      <a href=\"http://windows.php.net/qa/\">windows.php.net/qa/</a>.\\n      </p>\\n\\n      <p>\\n      The second Release Candidate will be released on the 14th of September.\\n      You can also read the full list of planned releases on\\n      <a href=\"https://wiki.php.net/todo/php72\">our wiki</a>.\\n      </p>\\n\\n      <p>Thank you for helping us make PHP better.</p>\\n    </div>\\n  \\n  </div>\\n</article><article class=\"newsentry\">\\n  <header class=\"title\">\\n    <time datetime=\"2017-08-17T10:17:44+02:00\">17 Aug 2017</time>\\n    <h2 class=\"newstitle\">\\n      <a href=\"https://www.php.net/archive/2017.php#id2017-08-17-1\" id=\"id2017-08-17-1\">PHP 7.2.0 Beta 3 Released</a>\\n    </h2>\\n  </header>\\n  <div class=\"newscontent\">\\n    <div>\\n      <p>\\n      The PHP development team announces the immediate availability of PHP 7.2.0 Beta 3.\\n      This release is the third and final beta for 7.2.0. All users of PHP are encouraged\\n      to test this version carefully, and report any bugs and incompatibilities in the\\n      <a href=\"https://bugs.php.net/\">bug tracking system</a>.\\n      </p>\\n\\n      <p><strong>THIS IS A DEVELOPMENT PREVIEW - DO NOT USE IT IN PRODUCTION!</strong></p>\\n\\n      <p>\\n      For more information on the new features and other changes, you can read the\\n      <a href=\"https://github.com/php/php-src/blob/php-7.2.0beta3/NEWS\">NEWS</a> file,\\n      or the <a href=\"https://github.com/php/php-src/blob/php-7.2.0beta3/UPGRADING\">UPGRADING</a>\\n      file for a complete list of upgrading notes. These files can also be found in the release archive.\\n      </p>\\n\\n      <p>\\n      For source downloads of PHP 7.2.0 Beta 3 please visit the\\n      <a href=\"https://downloads.php.net/~remi/\">download</a> page,\\n      Windows sources and binaries can be found at\\n      <a href=\"http://windows.php.net/qa/\">windows.php.net/qa/</a>.\\n      </p>\\n\\n      <p>\\n      The first Release Candidate will be released on the 31th of August.\\n      You can also read the full list of planned releases on\\n      <a href=\"https://wiki.php.net/todo/php72\">our wiki</a>.\\n      </p>\\n\\n      <p>Thank you for helping us make PHP better.</p>\\n    </div>\\n  \\n  </div>\\n</article><article class=\"newsentry\">\\n  <header class=\"title\">\\n    <time datetime=\"2017-07-06T12:25:08+02:00\">06 Jul 2017</time>\\n    <h2 class=\"newstitle\">\\n      <a href=\"https://www.php.net/archive/2017.php#id2017-07-06-2\" id=\"id2017-07-06-2\">PHP 7.2.0 Alpha 3 Released</a>\\n    </h2>\\n  </header>\\n  <div class=\"newscontent\">\\n    <div>\\n     <p>The PHP development team announces the immediate availability of PHP 7.2.0 Alpha 3.\\n     This release contains fixes and improvements relative to Alpha 2.\\n     All users of PHP are encouraged to test this version carefully,\\n     and report any bugs and incompatibilities in the\\n     <a href=\"https://bugs.php.net/\">bug tracking system</a>.</p>\\n\\n     <p><strong>THIS IS A DEVELOPMENT PREVIEW - DO NOT USE IT IN PRODUCTION!</strong></p>\\n\\n     <p>For information on new features and other changes, you can read the\\n     <a href=\"https://github.com/php/php-src/blob/php-7.2.0alpha3/NEWS\">NEWS</a> file,\\n     or the <a href=\"https://github.com/php/php-src/blob/php-7.2.0alpha3/UPGRADING\">UPGRADING</a> file\\n     for a complete list of upgrading notes. These files can also be found in the release archive.</p>\\n\\n     <p>For source downloads of PHP 7.2.0 Alpha 3 please visit the <a href=\"https://downloads.php.net/~remi/\">download</a> page,\\n     Windows sources and binaries can be found on <a href=\"http://windows.php.net/qa/\">windows.php.net/qa/</a>.</p>\\n\\n     <p>The first beta will be released on the 20th of July. You can also read the full list of planned releases on our\\n     <a href=\"https://wiki.php.net/todo/php72#timetable\">wiki</a>.</p>\\n\\n     <p>Thank you for helping us make PHP better.</p>\\n    </div>\\n  \\n  </div>\\n</article><p class=\"archive\"><a href=\"/archive/\">Older News Entries</a></p></div>    </section><!-- layout-content -->\\n    \\n<aside class=\"tips\">\\n    <div class=\"inner\">\\n<div class=\"panel\">  <a href=\"/conferences\" class=\"headline\" title=\"Conferences calling for papers\">Conferences calling for papers</a><div class=\"body\"><ul><li><a href=\\'https://www.php.net/conferences/index.php#id2020-05-27-1\\' title=\\'LaravelConf Taiwan 2020 CFP Started\\'>LaravelConf Taiwan 2020 CFP Started</a></li></ul></div></div><div class=\"panel\">  <a href=\"/conferences\" class=\"headline\" title=\"Upcoming conferences\">Upcoming conferences</a><div class=\"body\"><ul><li><a href=\\'https://www.php.net/conferences/index.php#id2020-05-19-1\\' title=\\'DPC2020 - Workshop day\\'>DPC2020 - Workshop day</a></li><li><a href=\\'https://www.php.net/conferences/index.php#id2020-04-14-1\\' title=\\'Dutch PHP Conference 2020 \\xe2\\x80\\x93 Online Edition\\'>Dutch PHP Conference 2020 \\xe2\\x80\\x93 Online Edition</a></li><li><a href=\\'https://www.php.net/conferences/index.php#id2019-12-20-1\\' title=\\'Dutch PHP Conference 2020\\'>Dutch PHP Conference 2020</a></li></ul></div></div>\\n    <p class=\\'panel\\'><a href=\\'/cal.php\\'>User Group Events</a></p>\\n    <p class=\\'panel\\'><a href=\\'/thanks.php\\'>Special Thanks</a></p>\\n    <p class=\\'panel social-media\\'>\\n      <span class=\\'headline\\'>Social media</span>\\n      <div class=\\'body\\'>\\n        <ul>\\n          <li>\\n            <a href=\"https://twitter.com/official_php\">\\n              <i class=\"icon-twitter\"></i>\\n              @official_php\\n            </a>\\n          </li>\\n        </ul>\\n      </div>\\n    </p>\\n</div>\\n</aside>\\n\\n  </div><!-- layout -->\\n\\n  <footer>\\n    <div class=\"container footer-content\">\\n      <div class=\"row-fluid\">\\n      <ul class=\"footmenu\">\\n        <li><a href=\"/copyright.php\">Copyright &copy; 2001-2020 The PHP Group</a></li>\\n        <li><a href=\"/my.php\">My PHP.net</a></li>\\n        <li><a href=\"/contact.php\">Contact</a></li>\\n        <li><a href=\"/sites.php\">Other PHP.net sites</a></li>\\n        <li><a href=\"/privacy.php\">Privacy policy</a></li>\\n      </ul>\\n      </div>\\n    </div>\\n  </footer>\\n\\n    <div class=\\'elephpants\\'><div class=images></div></div>\\n <!-- External and third party libraries. -->\\n <script src=\"//ajax.googleapis.com/ajax/libs/jquery/1.10.2/jquery.min.js\"></script>\\n<script src=\"/cached.php?t=1421837618&amp;f=/js/ext/modernizr.js\"></script>\\n<script src=\"/cached.php?t=1421837618&amp;f=/js/ext/hogan-2.0.0.min.js\"></script>\\n<script src=\"/cached.php?t=1421837618&amp;f=/js/ext/typeahead.min.js\"></script>\\n<script src=\"/cached.php?t=1421837618&amp;f=/js/ext/mousetrap.min.js\"></script>\\n<script src=\"/cached.php?t=1421837618&amp;f=/js/search.js\"></script>\\n<script src=\"/cached.php?t=1539765004&amp;f=/js/common.js\"></script>\\n\\n<a id=\"toTop\" href=\"javascript:;\"><span id=\"toTopHover\"></span><img width=\"40\" height=\"40\" alt=\"To Top\" src=\"/images/to-top@2x.png\"></a>\\n\\n</body>\\n</html>\\n'\n"
     ]
    }
   ],
   "source": [
    "print(html)"
   ]
  },
  {
   "cell_type": "markdown",
   "metadata": {
    "colab_type": "text",
    "id": "unVjE8aGOJIf"
   },
   "source": [
    "## Using Regular Expressions to Extract Tokens"
   ]
  },
  {
   "cell_type": "code",
   "execution_count": 9,
   "metadata": {
    "colab": {},
    "colab_type": "code",
    "collapsed": true,
    "id": "lD2eNhYeX4LH"
   },
   "outputs": [],
   "source": [
    "text = soup.get_text()\n",
    "tokens = re.findall('\\w+', text)"
   ]
  },
  {
   "cell_type": "code",
   "execution_count": 10,
   "metadata": {
    "colab": {
     "base_uri": "https://localhost:8080/",
     "height": 272
    },
    "colab_type": "code",
    "id": "xBSuXi8xxI6E",
    "outputId": "b83b8079-b1cf-48c5-bfc1-14a03f9f3060"
   },
   "outputs": [
    {
     "data": {
      "text/plain": [
       "['PHP',\n",
       " 'Hypertext',\n",
       " 'Preprocessor',\n",
       " 'Downloads',\n",
       " 'Documentation',\n",
       " 'Get',\n",
       " 'Involved',\n",
       " 'Help',\n",
       " 'Getting',\n",
       " 'Started',\n",
       " 'Introduction',\n",
       " 'A',\n",
       " 'simple',\n",
       " 'tutorial',\n",
       " 'Language',\n",
       " 'Reference',\n",
       " 'Basic',\n",
       " 'syntax',\n",
       " 'Types',\n",
       " 'Variables']"
      ]
     },
     "execution_count": 10,
     "metadata": {},
     "output_type": "execute_result"
    }
   ],
   "source": [
    "tokens[:20]   # printing words list"
   ]
  },
  {
   "cell_type": "markdown",
   "metadata": {
    "colab_type": "text",
    "id": "HzyQ4kjHOgwH"
   },
   "source": [
    "### Converting tokens to lower case"
   ]
  },
  {
   "cell_type": "code",
   "execution_count": 11,
   "metadata": {
    "colab": {
     "base_uri": "https://localhost:8080/",
     "height": 34
    },
    "colab_type": "code",
    "id": "x_A34vZBMfKk",
    "outputId": "6e9bd038-f27e-470d-d7d6-dc32b3ad30d6"
   },
   "outputs": [
    {
     "data": {
      "text/plain": [
       "['php', 'hypertext', 'preprocessor', 'downloads', 'documentation']"
      ]
     },
     "execution_count": 11,
     "metadata": {},
     "output_type": "execute_result"
    }
   ],
   "source": [
    "words = []\n",
    "for word in tokens:\n",
    "  words.append(word.lower())\n",
    "words[:5]\n",
    "  "
   ]
  },
  {
   "cell_type": "markdown",
   "metadata": {
    "colab_type": "text",
    "id": "xVQnjR0mOog9"
   },
   "source": [
    "## Removing Stopwords"
   ]
  },
  {
   "cell_type": "code",
   "execution_count": 12,
   "metadata": {
    "colab": {
     "base_uri": "https://localhost:8080/",
     "height": 68
    },
    "colab_type": "code",
    "id": "tAUcBQyJYLD3",
    "outputId": "cf325f70-4fb8-4d7d-97ea-20e6664901d6"
   },
   "outputs": [
    {
     "name": "stdout",
     "output_type": "stream",
     "text": [
      "[nltk_data] Downloading package stopwords to\n",
      "[nltk_data]     C:\\Users\\TEMP\\AppData\\Roaming\\nltk_data...\n",
      "[nltk_data]   Unzipping corpora\\stopwords.zip.\n"
     ]
    },
    {
     "data": {
      "text/plain": [
       "True"
      ]
     },
     "execution_count": 12,
     "metadata": {},
     "output_type": "execute_result"
    }
   ],
   "source": [
    "import nltk\n",
    "nltk.download('stopwords')"
   ]
  },
  {
   "cell_type": "code",
   "execution_count": 13,
   "metadata": {
    "colab": {
     "base_uri": "https://localhost:8080/",
     "height": 34
    },
    "colab_type": "code",
    "id": "eXGBj3IBPDQm",
    "outputId": "8e12a85f-6112-4653-cf66-61c4df87c5ca"
   },
   "outputs": [
    {
     "data": {
      "text/plain": [
       "['i', 'me', 'my', 'myself', 'we']"
      ]
     },
     "execution_count": 13,
     "metadata": {},
     "output_type": "execute_result"
    }
   ],
   "source": [
    "stopWords = nltk.corpus.stopwords.words('english')\n",
    "stopWords[:5]"
   ]
  },
  {
   "cell_type": "code",
   "execution_count": 14,
   "metadata": {
    "colab": {
     "base_uri": "https://localhost:8080/",
     "height": 476
    },
    "colab_type": "code",
    "id": "85zYpaeSijfM",
    "outputId": "20caa137-aef1-44d7-88a6-2bf190fbabb5"
   },
   "outputs": [
    {
     "name": "stdout",
     "output_type": "stream",
     "text": [
      "Total including stopwords: 5908\n",
      "Length after stopwords: 3785\n",
      "Total removed stopwords: 2123\n"
     ]
    },
    {
     "data": {
      "text/plain": [
       "['php',\n",
       " 'hypertext',\n",
       " 'preprocessor',\n",
       " 'downloads',\n",
       " 'documentation',\n",
       " 'get',\n",
       " 'involved',\n",
       " 'help',\n",
       " 'getting',\n",
       " 'started',\n",
       " 'introduction',\n",
       " 'simple',\n",
       " 'tutorial',\n",
       " 'language',\n",
       " 'reference',\n",
       " 'basic',\n",
       " 'syntax',\n",
       " 'types',\n",
       " 'variables',\n",
       " 'constants',\n",
       " 'expressions',\n",
       " 'operators',\n",
       " 'control',\n",
       " 'structures']"
      ]
     },
     "execution_count": 14,
     "metadata": {},
     "output_type": "execute_result"
    }
   ],
   "source": [
    "print(\"Total including stopwords:\", len(words))\n",
    "clean_words = []\n",
    "for w in words:\n",
    "  if w not in stopWords:\n",
    "    clean_words.append(w)\n",
    "    \n",
    "print(\"Length after stopwords:\", len(clean_words) )\n",
    "print(\"Total removed stopwords:\", len(words)-len(clean_words) )\n",
    "clean_words[:24]\n",
    "    "
   ]
  },
  {
   "cell_type": "markdown",
   "metadata": {
    "colab_type": "text",
    "id": "20pDZxekQ5Lw"
   },
   "source": [
    "## Words Frequency distribution"
   ]
  },
  {
   "cell_type": "code",
   "execution_count": 15,
   "metadata": {
    "colab": {
     "base_uri": "https://localhost:8080/",
     "height": 34
    },
    "colab_type": "code",
    "id": "1ZJVDKDBji4Y",
    "outputId": "ab6b1e9e-5c45-4aad-faca-5f073e79def5"
   },
   "outputs": [
    {
     "name": "stdout",
     "output_type": "stream",
     "text": [
      "Text has 378 types and 3785 tokens for a lexical diversity of 10.013\n"
     ]
    }
   ],
   "source": [
    "counts  = nltk.FreqDist(clean_words)\n",
    "vocab   = len(counts.keys())\n",
    "words   = sum(counts.values())\n",
    "lexdiv  = float(words) / float(vocab)\n",
    "print(\"Text has %i types and %i tokens for a lexical diversity of %0.3f\" % (vocab, words, lexdiv))"
   ]
  },
  {
   "cell_type": "code",
   "execution_count": 16,
   "metadata": {
    "colab": {
     "base_uri": "https://localhost:8080/",
     "height": 34
    },
    "colab_type": "code",
    "id": "fSOLEarDfOOy",
    "outputId": "d0ef3334-091a-47f4-cb67-26c7d429de14"
   },
   "outputs": [
    {
     "name": "stdout",
     "output_type": "stream",
     "text": [
      "[('php', 300), ('7', 186), ('release', 162), ('found', 104), ('3', 93), ('4', 77), ('please', 75), ('version', 73), ('upgrading', 71), ('file', 70)]\n"
     ]
    }
   ],
   "source": [
    "print(counts.most_common(10))"
   ]
  },
  {
   "cell_type": "code",
   "execution_count": 17,
   "metadata": {
    "colab": {
     "base_uri": "https://localhost:8080/",
     "height": 34
    },
    "colab_type": "code",
    "id": "exoiejfph4uy",
    "outputId": "ca682c1f-1b44-4c5d-bf9f-1c3e484ac450"
   },
   "outputs": [
    {
     "name": "stdout",
     "output_type": "stream",
     "text": [
      "php\n"
     ]
    }
   ],
   "source": [
    "print(counts.max())"
   ]
  },
  {
   "cell_type": "markdown",
   "metadata": {},
   "source": [
    "## Frequency of words in a webpage"
   ]
  },
  {
   "cell_type": "code",
   "execution_count": 22,
   "metadata": {
    "colab": {
     "base_uri": "https://localhost:8080/",
     "height": 34
    },
    "colab_type": "code",
    "id": "vJaBppu1TNHF",
    "outputId": "ed21b532-1671-493d-d2ce-1a41077e72e3"
   },
   "outputs": [
    {
     "data": {
      "text/plain": [
       "0.07926023778071334"
      ]
     },
     "execution_count": 22,
     "metadata": {},
     "output_type": "execute_result"
    }
   ],
   "source": [
    "counts.freq('php')"
   ]
  },
  {
   "cell_type": "code",
   "execution_count": 27,
   "metadata": {
    "colab": {
     "base_uri": "https://localhost:8080/",
     "height": 324
    },
    "colab_type": "code",
    "id": "3ChoHahfToWH",
    "outputId": "e32d1012-8383-4c8b-a794-5a80f36c89c9"
   },
   "outputs": [
    {
     "data": {
      "image/png": "[encoded data removed]",
      "text/plain": [
       "<matplotlib.figure.Figure at 0x230ce7a9278>"
      ]
     },
     "metadata": {},
     "output_type": "display_data"
    }
   ],
   "source": [
    "counts.plot(10, cumulative=False)"
   ]
  },
  {
   "cell_type": "code",
   "execution_count": null,
   "metadata": {
    "collapsed": true
   },
   "outputs": [],
   "source": []
  }
 ],
 "metadata": {
  "colab": {
   "collapsed_sections": [],
   "name": "assignment_beautifulsoup.ipynb",
   "provenance": []
  },
  "kernelspec": {
   "display_name": "Python 3",
   "language": "python",
   "name": "python3"
  },
  "language_info": {
   "codemirror_mode": {
    "name": "ipython",
    "version": 3
   },
   "file_extension": ".py",
   "mimetype": "text/x-python",
   "name": "python",
   "nbconvert_exporter": "python",
   "pygments_lexer": "ipython3",
   "version": "3.6.2"
  }
 },
 "nbformat": 4,
 "nbformat_minor": 1
}
